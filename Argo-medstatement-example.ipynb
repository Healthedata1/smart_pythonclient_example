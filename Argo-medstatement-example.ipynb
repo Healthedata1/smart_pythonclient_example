{
 "cells": [
  {
   "cell_type": "markdown",
   "metadata": {},
   "source": [
    "## Create Argonaut MedicationStatement Resource\n",
    "\n",
    "*[from the Argonaut Guide](http://www.fhir.org/guides/argonaut/r2/StructureDefinition-argo-medicationstatement.html)* \n",
    "\n",
    "### Each MedicationStatement must have:\n",
    "\n",
    "- a patient\n",
    "- a date\n",
    "- a status\n",
    "- a medication\n",
    "\n",
    "### Profile specific implementation guidance:\n",
    "\n",
    "The MedicationStatement and MedicationRequest resources can represent a medication, using either a code or refer to a Medication resource.\n",
    "When referencing a Medication resource, the resource may be contained or an external resource.\n",
    "The server application can support one or both methods, but if the an external reference to Medication is used, the server SHALL support the include parameter for searching this element.\n",
    "The client application must support both methods.\n",
    "Additional guidance is provided below in the Search section and in the conformance resource for this profile\n",
    "\n",
    "\n",
    "This Example uses the [Python SMART on FHIR client](https://github.com/smart-on-fhir/client-py) library to create a [MedicationStatement](http://hl7.org/fhir/DSTU2/medicationstatement.html) Resource."
   ]
  },
  {
   "cell_type": "markdown",
   "metadata": {},
   "source": [
    "###  Import modules"
   ]
  },
  {
   "cell_type": "code",
   "execution_count": 4,
   "metadata": {},
   "outputs": [],
   "source": [
    "import fhirclient.models.medicationstatement as MS\n",
    "import fhirclient.models.identifier as I\n",
    "import fhirclient.models.coding as C\n",
    "import fhirclient.models.codeableconcept as CC\n",
    "import fhirclient.models.fhirdate as D\n",
    "import fhirclient.models.extension as X\n",
    "import fhirclient.models.meta as M\n",
    "import fhirclient.models.valueset as VS\n",
    "import fhirclient.models.reference as R\n",
    "import fhirclient.models.period as PD\n",
    "import fhirclient.models.parameters as PM\n",
    "\n",
    "from json import dumps\n",
    "from pprint import pprint\n",
    "from requests import get, post, put\n",
    "import os\n",
    "from IPython.display import display, Markdown, HTML"
   ]
  },
  {
   "cell_type": "markdown",
   "metadata": {},
   "source": [
    "### Global variables\n"
   ]
  },
  {
   "cell_type": "code",
   "execution_count": 5,
   "metadata": {},
   "outputs": [],
   "source": [
    "out_path = '/Users/ehaas/Documents/FHIR/pyfhir/test/'\n",
    "#out_path = \"C:/Users/Eric/Documents/Jan_2019_FHIR_Experience\"\n",
    "fhir_term_server = 'http://test.fhir.org/r4'\n",
    "fhir_test_server = 'http://fhirtest.uhn.ca/baseDstu2'\n",
    "\n",
    "headers = {\n",
    "'Accept':'application/fhir+json',\n",
    "'Content-Type':'application/fhir+json'\n",
    "}\n",
    "\n",
    "\n",
    "type = 'medicationstatement'\n",
    "profile = 'http://fhir.org/guides/argonaut/StructureDefinition/argo-{type}'\n"
   ]
  },
  {
   "cell_type": "markdown",
   "metadata": {},
   "source": [
    "### Function Definitions"
   ]
  },
  {
   "cell_type": "markdown",
   "metadata": {},
   "source": [
    "#### look up code and system to get display term server using  the  `$lookup` operation\n",
    "example: \n",
    "```\n",
    "GET [base]/CodeSystem/$lookup?system=http://loinc.org&code=1963-8\n",
    "```"
   ]
  },
  {
   "cell_type": "code",
   "execution_count": 31,
   "metadata": {},
   "outputs": [],
   "source": [
    "def get_display(sys, code): \n",
    "    params = {\n",
    "    'system': sys,\n",
    "    'code': code,\n",
    "    }\n",
    "    #   r = requests.get('https://httpbin.org/post', params = {'key':'value'}, header = {'key':'value'})\n",
    "    r = get(f'https://rxnav.nlm.nih.gov/REST/rxcui/{code}')\n",
    "    # print(r.status_code)\n",
    "    if r.status_code < 300:\n",
    "        return (r.text.split('<name>')[1]).split('</name>')[0]\n",
    "    else:\n",
    "        print (dumps(r.json(),indent=3))"
   ]
  },
  {
   "cell_type": "markdown",
   "metadata": {},
   "source": [
    "### Instantiate Classes"
   ]
  },
  {
   "cell_type": "code",
   "execution_count": 15,
   "metadata": {},
   "outputs": [
    {
     "data": {
      "text/markdown": [
       "**Initial MedicationStatement resource as a Python dictionary object:**"
      ],
      "text/plain": [
       "<IPython.core.display.Markdown object>"
      ]
     },
     "metadata": {},
     "output_type": "display_data"
    },
    {
     "name": "stderr",
     "output_type": "stream",
     "text": [
      "WARNING:root:Element 'patient' is not optional, you should provide a value for it on <fhirclient.models.medicationstatement.MedicationStatement object at 0x10ec7e438>\n",
      "WARNING:root:Element 'status' is not optional, you should provide a value for it on <fhirclient.models.medicationstatement.MedicationStatement object at 0x10ec7e438>\n",
      "WARNING:root:Element 'medication' is not optional, you should provide a value for it on <fhirclient.models.medicationstatement.MedicationStatement object at 0x10ec7e438>\n"
     ]
    },
    {
     "data": {
      "text/markdown": [
       "`{'resourceType': 'MedicationStatement'}`"
      ],
      "text/plain": [
       "<IPython.core.display.Markdown object>"
      ]
     },
     "metadata": {},
     "output_type": "display_data"
    }
   ],
   "source": [
    "medstatement = MS.MedicationStatement()\n",
    "reference=R.Reference()\n",
    "meta = M.Meta()\n",
    "identifier = I.Identifier()\n",
    "codeableconcept = CC.CodeableConcept()\n",
    "coding = C.Coding()\n",
    "period = PD.Period()\n",
    "\n",
    "display(Markdown('**Initial MedicationStatement resource as a Python dictionary object:**'))\n",
    "display(Markdown(f'`{medstatement.as_json()}`'))\n"
   ]
  },
  {
   "cell_type": "markdown",
   "metadata": {},
   "source": [
    "### Supply Data for Resource \n",
    "\n",
    "In this example, a simple Python dictionary of key:value pairs is being used, but you could extend this to grab the data from a spreadsheet, csv file, database, User entry, etc."
   ]
  },
  {
   "cell_type": "code",
   "execution_count": 21,
   "metadata": {},
   "outputs": [],
   "source": [
    "data = dict(\n",
    "patient = 'test-1',\n",
    "f_name = 'Eric',\n",
    "l_name = \"Haas\",\n",
    "mi = 'M',\n",
    "date_asserted = '2019-01-08',\n",
    "effective_hi= '2018-12-28',\n",
    "effective_lo= '2018-12-14',\n",
    "effective = '',\n",
    "status = 'completed',\n",
    "medication_code = '206765', #RX-Norm\n",
    "# medication_reference = '#my_meds'\n",
    ")\n"
   ]
  },
  {
   "cell_type": "markdown",
   "metadata": {},
   "source": [
    "### Build Resource Using This Data\n",
    "A step by step example to show how to create the resource using the FHIRClient Model."
   ]
  },
  {
   "cell_type": "markdown",
   "metadata": {},
   "source": [
    "#### Add simple id and status elements"
   ]
  },
  {
   "cell_type": "code",
   "execution_count": 23,
   "metadata": {},
   "outputs": [
    {
     "name": "stderr",
     "output_type": "stream",
     "text": [
      "WARNING:root:Element 'patient' is not optional, you should provide a value for it on <fhirclient.models.medicationstatement.MedicationStatement object at 0x10ec7e438>\n",
      "WARNING:root:Element 'medication' is not optional, you should provide a value for it on <fhirclient.models.medicationstatement.MedicationStatement object at 0x10ec7e438>\n"
     ]
    },
    {
     "name": "stdout",
     "output_type": "stream",
     "text": [
      "{'id': 'test-1', 'resourceType': 'MedicationStatement', 'status': 'completed'}\n"
     ]
    }
   ],
   "source": [
    "medstatement.id = 'test-1'\n",
    "medstatement.status = data['status']\n",
    "pprint(medstatement.as_json())"
   ]
  },
  {
   "cell_type": "markdown",
   "metadata": {},
   "source": [
    "#### Add complex meta element for  (repeating) profile element"
   ]
  },
  {
   "cell_type": "code",
   "execution_count": 24,
   "metadata": {},
   "outputs": [
    {
     "name": "stderr",
     "output_type": "stream",
     "text": [
      "WARNING:root:Element 'patient' is not optional, you should provide a value for it on <fhirclient.models.medicationstatement.MedicationStatement object at 0x10ec7e438>\n",
      "WARNING:root:Element 'medication' is not optional, you should provide a value for it on <fhirclient.models.medicationstatement.MedicationStatement object at 0x10ec7e438>\n"
     ]
    },
    {
     "name": "stdout",
     "output_type": "stream",
     "text": [
      "{'id': 'test-1',\n",
      " 'meta': {'profile': ['http://fhir.org/guides/argonaut/StructureDefinition/argo-medicationstatement']},\n",
      " 'resourceType': 'MedicationStatement',\n",
      " 'status': 'completed'}\n"
     ]
    }
   ],
   "source": [
    "meta.profile = []\n",
    "meta.profile.append(f'http://fhir.org/guides/argonaut/StructureDefinition/argo-{type}')\n",
    "medstatement.meta = meta\n",
    "pprint(medstatement.as_json())\n"
   ]
  },
  {
   "cell_type": "markdown",
   "metadata": {},
   "source": [
    "#### Add patient reference element"
   ]
  },
  {
   "cell_type": "code",
   "execution_count": 25,
   "metadata": {},
   "outputs": [
    {
     "name": "stderr",
     "output_type": "stream",
     "text": [
      "WARNING:root:Element 'medication' is not optional, you should provide a value for it on <fhirclient.models.medicationstatement.MedicationStatement object at 0x10ec7e438>\n"
     ]
    },
    {
     "name": "stdout",
     "output_type": "stream",
     "text": [
      "{'id': 'test-1',\n",
      " 'meta': {'profile': ['http://fhir.org/guides/argonaut/StructureDefinition/argo-medicationstatement']},\n",
      " 'patient': {'reference': 'Patient/test-1'},\n",
      " 'resourceType': 'MedicationStatement',\n",
      " 'status': 'completed'}\n"
     ]
    }
   ],
   "source": [
    "reference.reference = f'Patient/{data[\"patient\"]}'\n",
    "reference.text = f'data[\"f_name\"] data[\"mi\"] data[\"l_name\"]'\n",
    "medstatement.patient = reference\n",
    "pprint(medstatement.as_json())"
   ]
  },
  {
   "cell_type": "markdown",
   "metadata": {},
   "source": [
    "#### add dates\n",
    "\n",
    "Note dates need to be converted to ISO formatted strings in Python"
   ]
  },
  {
   "cell_type": "code",
   "execution_count": 26,
   "metadata": {},
   "outputs": [
    {
     "name": "stderr",
     "output_type": "stream",
     "text": [
      "WARNING:root:Element 'medication' is not optional, you should provide a value for it on <fhirclient.models.medicationstatement.MedicationStatement object at 0x10ec7e438>\n"
     ]
    },
    {
     "name": "stdout",
     "output_type": "stream",
     "text": [
      "{'dateAsserted': '2019-01-08',\n",
      " 'effectivePeriod': {'end': '2018-12-28', 'start': '2018-12-14'},\n",
      " 'id': 'test-1',\n",
      " 'meta': {'profile': ['http://fhir.org/guides/argonaut/StructureDefinition/argo-medicationstatement']},\n",
      " 'patient': {'reference': 'Patient/test-1'},\n",
      " 'resourceType': 'MedicationStatement',\n",
      " 'status': 'completed'}\n"
     ]
    }
   ],
   "source": [
    "date = D.FHIRDate(data['date_asserted'])\n",
    "medstatement.dateAsserted = date\n",
    "period.start  = D.FHIRDate(data['effective_lo']) if data['effective_lo'] else None\n",
    "period.end  = D.FHIRDate(data['effective_hi']) if data['effective_hi'] else None\n",
    "medstatement.effectivePeriod = period\n",
    "medstatement.effectiveDateTime =  D.FHIRDate(data['effective']) if data['effective'] else None\n",
    "pprint(medstatement.as_json())"
   ]
  },
  {
   "cell_type": "markdown",
   "metadata": {},
   "source": [
    "#### Finaly, add the medication as a codeableconcept"
   ]
  },
  {
   "cell_type": "code",
   "execution_count": 33,
   "metadata": {},
   "outputs": [
    {
     "name": "stdout",
     "output_type": "stream",
     "text": [
      "{'dateAsserted': '2019-01-08',\n",
      " 'effectivePeriod': {'end': '2018-12-28', 'start': '2018-12-14'},\n",
      " 'id': 'test-1',\n",
      " 'medicationCodeableConcept': {'coding': [{'code': '206765',\n",
      "                                           'display': 'Lisinopril 10 MG Oral '\n",
      "                                                      'Tablet [Prinivil]',\n",
      "                                           'system': 'http://www.nlm.nih.gov/research/umls/rxnorm'}],\n",
      "                               'text': 'Lisinopril 10 MG Oral Tablet '\n",
      "                                       '[Prinivil]'},\n",
      " 'meta': {'profile': ['http://fhir.org/guides/argonaut/StructureDefinition/argo-medicationstatement']},\n",
      " 'patient': {'reference': 'Patient/test-1'},\n",
      " 'resourceType': 'MedicationStatement',\n",
      " 'status': 'completed'}\n"
     ]
    }
   ],
   "source": [
    "sys = 'http://www.nlm.nih.gov/research/umls/rxnorm'\n",
    "dis = get_display(sys,data['medication_code'])\n",
    "codeableconcept.coding = []\n",
    "coding.code = data['medication_code']\n",
    "coding.system = sys\n",
    "coding.display = dis\n",
    "codeableconcept.coding.append(coding)\n",
    "codeableconcept.text = dis\n",
    "medstatement.medicationCodeableConcept = codeableconcept\n",
    "pprint(medstatement.as_json())"
   ]
  },
  {
   "cell_type": "markdown",
   "metadata": {},
   "source": [
    "### Pretty print as json\n"
   ]
  },
  {
   "cell_type": "code",
   "execution_count": 34,
   "metadata": {},
   "outputs": [
    {
     "name": "stdout",
     "output_type": "stream",
     "text": [
      "\n",
      " {\n",
      "   \"id\": \"test-1\",\n",
      "   \"meta\": {\n",
      "      \"profile\": [\n",
      "         \"http://fhir.org/guides/argonaut/StructureDefinition/argo-medicationstatement\"\n",
      "      ]\n",
      "   },\n",
      "   \"dateAsserted\": \"2019-01-08\",\n",
      "   \"effectivePeriod\": {\n",
      "      \"end\": \"2018-12-28\",\n",
      "      \"start\": \"2018-12-14\"\n",
      "   },\n",
      "   \"medicationCodeableConcept\": {\n",
      "      \"coding\": [\n",
      "         {\n",
      "            \"code\": \"206765\",\n",
      "            \"display\": \"Lisinopril 10 MG Oral Tablet [Prinivil]\",\n",
      "            \"system\": \"http://www.nlm.nih.gov/research/umls/rxnorm\"\n",
      "         }\n",
      "      ],\n",
      "      \"text\": \"Lisinopril 10 MG Oral Tablet [Prinivil]\"\n",
      "   },\n",
      "   \"patient\": {\n",
      "      \"reference\": \"Patient/test-1\"\n",
      "   },\n",
      "   \"status\": \"completed\",\n",
      "   \"resourceType\": \"MedicationStatement\"\n",
      "}\n"
     ]
    }
   ],
   "source": [
    "print('\\n',dumps(medstatement.as_json(),indent =3 ))\n"
   ]
  },
  {
   "cell_type": "markdown",
   "metadata": {},
   "source": [
    "### Validate Resource\n",
    "\n",
    "Note unable to locate an open test server to do this. :("
   ]
  },
  {
   "cell_type": "code",
   "execution_count": 35,
   "metadata": {},
   "outputs": [
    {
     "data": {
      "text/markdown": [
       "<h1>Validation output</h1><div xmlns=\"http://www.w3.org/1999/xhtml\"><h1>Operation Outcome</h1><table border=\"0\"><tr><td style=\"font-weight: bold;\">error</td><td>[]</td><td><pre>Failed to call access method: org.springframework.transaction.UnexpectedRollbackException: Transaction silently rolled back because it has been marked as rollback-only</pre></td>\n",
       "\t\t\t\t\t\n",
       "\t\t\t\t\n",
       "\t\t\t</tr>\n",
       "\t\t</table>\n",
       "\t</div>"
      ],
      "text/plain": [
       "<IPython.core.display.Markdown object>"
      ]
     },
     "metadata": {},
     "output_type": "display_data"
    }
   ],
   "source": [
    "params = {\n",
    "'profile': f'http://fhir.org/guides/argonaut/StructureDefinition/argo-{type}'\n",
    "}\n",
    "\n",
    "r = post(f'{fhir_test_server}/MedicationStatement/$validate', params = params, headers = headers, data = dumps(medstatement.as_json()))\n",
    "# print(r.status_code)\n",
    "# view  output in browser\n",
    "display(Markdown(f'<h1>Validation output</h1>{r.json()[\"text\"][\"div\"]}'))\n"
   ]
  },
  {
   "cell_type": "markdown",
   "metadata": {},
   "source": [
    "### PUT Resource to FHIR test server"
   ]
  },
  {
   "cell_type": "code",
   "execution_count": 36,
   "metadata": {},
   "outputs": [
    {
     "data": {
      "text/markdown": [
       "<h1>Put Response</h1><p><strong>Transaction Status</strong> = 200</p>"
      ],
      "text/plain": [
       "<IPython.core.display.Markdown object>"
      ]
     },
     "metadata": {},
     "output_type": "display_data"
    },
    {
     "data": {
      "text/markdown": [
       "<p>raw output :</p><code>{\n",
       "   \"resourceType\": \"MedicationStatement\",\n",
       "   \"id\": \"test-1\",\n",
       "   \"meta\": {\n",
       "      \"versionId\": \"2\",\n",
       "      \"lastUpdated\": \"2019-01-10T19:20:16.873+00:00\",\n",
       "      \"profile\": [\n",
       "         \"http://fhir.org/guides/argonaut/StructureDefinition/argo-medicationstatement\"\n",
       "      ]\n",
       "   },\n",
       "   \"patient\": {\n",
       "      \"reference\": \"Patient/test-1\"\n",
       "   },\n",
       "   \"dateAsserted\": \"2019-01-08\",\n",
       "   \"status\": \"completed\",\n",
       "   \"effectivePeriod\": {\n",
       "      \"start\": \"2018-12-14\",\n",
       "      \"end\": \"2018-12-28\"\n",
       "   },\n",
       "   \"medicationCodeableConcept\": {\n",
       "      \"coding\": [\n",
       "         {\n",
       "            \"system\": \"http://www.nlm.nih.gov/research/umls/rxnorm\",\n",
       "            \"code\": \"206765\",\n",
       "            \"display\": \"Lisinopril 10 MG Oral Tablet [Prinivil]\"\n",
       "         }\n",
       "      ],\n",
       "      \"text\": \"Lisinopril 10 MG Oral Tablet [Prinivil]\"\n",
       "   }\n",
       "}</code>"
      ],
      "text/plain": [
       "<IPython.core.display.Markdown object>"
      ]
     },
     "metadata": {},
     "output_type": "display_data"
    }
   ],
   "source": [
    " \n",
    "r = put(f'{fhir_test_server}/MedicationStatement/{medstatement.id}', headers = headers, data = dumps(medstatement.as_json()))\n",
    "\n",
    "\n",
    "display(Markdown(f'<h1>Put Response</h1><p><strong>Transaction Status</strong> = {r.status_code}</p>'))\n",
    "\n",
    "display(Markdown(f'<p>raw output :</p><code>{dumps(r.json(),indent=3)}</code>'))\n"
   ]
  },
  {
   "cell_type": "markdown",
   "metadata": {},
   "source": [
    "### GET resource in XML format"
   ]
  },
  {
   "cell_type": "code",
   "execution_count": 39,
   "metadata": {},
   "outputs": [
    {
     "data": {
      "text/markdown": [
       "<h1>Get Resource as XML</h1><p><strong>Transaction Status</strong> = 200</p>"
      ],
      "text/plain": [
       "<IPython.core.display.Markdown object>"
      ]
     },
     "metadata": {},
     "output_type": "display_data"
    },
    {
     "name": "stdout",
     "output_type": "stream",
     "text": [
      "<MedicationStatement xmlns=\"http://hl7.org/fhir\">\n",
      "   <id value=\"test-1\"/>\n",
      "   <meta>\n",
      "      <versionId value=\"2\"/>\n",
      "      <lastUpdated value=\"2019-01-10T19:20:16.873+00:00\"/>\n",
      "      <profile value=\"http://fhir.org/guides/argonaut/StructureDefinition/argo-medicationstatement\"/>\n",
      "   </meta>\n",
      "   <patient>\n",
      "      <reference value=\"Patient/test-1\"/>\n",
      "   </patient>\n",
      "   <dateAsserted value=\"2019-01-08\"/>\n",
      "   <status value=\"completed\"/>\n",
      "   <effectivePeriod>\n",
      "      <start value=\"2018-12-14\"/>\n",
      "      <end value=\"2018-12-28\"/>\n",
      "   </effectivePeriod>\n",
      "   <medicationCodeableConcept>\n",
      "      <coding>\n",
      "         <system value=\"http://www.nlm.nih.gov/research/umls/rxnorm\"/>\n",
      "         <code value=\"206765\"/>\n",
      "         <display value=\"Lisinopril 10 MG Oral Tablet [Prinivil]\"/>\n",
      "      </coding>\n",
      "      <text value=\"Lisinopril 10 MG Oral Tablet [Prinivil]\"/>\n",
      "   </medicationCodeableConcept>\n",
      "</MedicationStatement>\n"
     ]
    }
   ],
   "source": [
    "headers_xml = {\n",
    "'Accept':'application/fhir+xml',\n",
    "'Content-Type':'application/fhir+xml'\n",
    "}\n",
    "\n",
    "#   r = requests.post('https://httpbin.org/post', data = {'key':'value'})\n",
    "r = get(f'{fhir_test_server}/MedicationStatement/{medstatement.id}', headers = headers_xml)\n",
    "#print(r.status_code)\n",
    "display(Markdown(f'<h1>Get Resource as XML</h1><p><strong>Transaction Status</strong> = {r.status_code}</p>'))\n",
    "print(r.text)\n",
    "\n"
   ]
  },
  {
   "cell_type": "markdown",
   "metadata": {},
   "source": [
    "## FIN\n",
    "\n"
   ]
  }
 ],
 "metadata": {
  "kernelspec": {
   "display_name": "Python Flask36 DSTU2",
   "language": "python",
   "name": "flask36_dstu2"
  },
  "language_info": {
   "codemirror_mode": {
    "name": "ipython",
    "version": 3
   },
   "file_extension": ".py",
   "mimetype": "text/x-python",
   "name": "python",
   "nbconvert_exporter": "python",
   "pygments_lexer": "ipython3",
   "version": "3.6.2"
  }
 },
 "nbformat": 4,
 "nbformat_minor": 2
}
