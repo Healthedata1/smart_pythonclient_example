{
 "cells": [
  {
   "cell_type": "markdown",
   "metadata": {},
   "source": [
    "## Create US Core Patient Resource Using Python Dictionaries\n",
    "\n",
    "### Prerequisites:\n",
    "\n",
    "- Python 3.6 or greater\n",
    "    for instruction how to install Python and modules and optionally setting up atom as a python IDE (lots of other choices here as well) and creating virtual environments, If you are new to Python or need help getting starged I recommend these YouYube videos by Corey Schaefer:\n",
    "    \n",
    "[![image.jpg](http://img.youtube.com/vi/YYXdXT2l-Gg/sddefault.jpg)](https://www.youtube.com/watch?v=YYXdXT2l-Gg)\n",
    "\n",
    "[![image.jpg](http://img.youtube.com/vi/CqvZ3vGoGs0/sddefault.jpg)](https://www.youtube.com/watch?v=CqvZ3vGoGs0)\n",
    "\n",
    "[![image.jpg](http://img.youtube.com/vi/DjEuROpsvp4/sddefault.jpg)](https://www.youtube.com/watch?v=DjEuROpsvp4)\n",
    "\n",
    "[![image.jpg](http://img.youtube.com/vi/N5vscPTWKOk/sddefault.jpg)](https://www.youtube.com/watch?v=N5vscPTWKOk)\n",
    "\n",
    "\n",
    "- installed modules:\n",
    "   - [requests](docs.python-requests.org/en/master/)\n",
    "   - [csv — CSV File Reading and Writing](https://docs.python.org/3/library/csv.html)\n",
    "   \n",
    "### Introduction:\n",
    " \n",
    "IN the code below, I walk through the steps to create US Core Patient resource using python dictionary as \"FHIR resource template\", validate it, Post it to a FHIR server and then fetch it in xml format.  The data is based off of a simple excel file which serves as a data entry form.  To simplify things the worksheet is saved as a CSV file which is used directly in the code below.  This method is shorter and for me easier to understand and read since all the values are evaluated 'in-situ' in the wire format.  However it is brittle and more difficult to create and maintain since it is easier to introduce structural errors into the nested dictionary structure through a misplaced or deleted delimiter and it can be challenging to find the error.  But is my goto method for a quick and dirty creation of resources.\n",
    "\n",
    "Also see [how to use the fhirclient models](https://github.com/Healthedata1/smart_pythonclient_example) which perform some data validation as well and provide for a more `pythonic` way to represent FHIR resources.\n",
    " "
   ]
  },
  {
   "cell_type": "markdown",
   "metadata": {},
   "source": [
    "#### First import all the necessary modules\n",
    "\n",
    "We will be using these modules to create the FHIR Patient resource.  The `IPython` and `pandas` modules are used to make this Jupyter Notebook display pretty."
   ]
  },
  {
   "cell_type": "code",
   "execution_count": 2,
   "metadata": {},
   "outputs": [],
   "source": [
    "# ******************** modules **************************\n",
    "\n",
    "from json import dumps\n",
    "from requests import get, post, put\n",
    "import os\n",
    "from csv import DictReader\n",
    "from IPython.display import display, Markdown\n",
    "from pandas import read_csv"
   ]
  },
  {
   "cell_type": "markdown",
   "metadata": {},
   "source": [
    "####  Assign Global Variables\n",
    "\n",
    "Here is where we assign all the global variables for this example such as the local paths for file input and output which need to\n",
    "be updated for your local environment."
   ]
  },
  {
   "cell_type": "code",
   "execution_count": 3,
   "metadata": {},
   "outputs": [],
   "source": [
    "# ******************** globals **************************\n",
    "in_path =r'C:\\Users\\Eric\\Documents\\Jan_2019_FHIR_Experience\\US_CorePerson_data.csv'\n",
    "# out_path = '/Users/ehaas/Documents/FHIR/pyfhir/test/'\n",
    "out_path = r'C:\\Users\\Eric\\Documents\\Jan_2019_FHIR_Experience'\n",
    "fhir_term_server = 'http://test.fhir.org/r3'\n",
    "#fhir_test_server = 'http://test.fhir.org/r3'\n",
    "fhir_test_server = 'http://wildfhir.aegis.net/fhir3-0-1'\n",
    "headers = {\n",
    "'Accept':'application/fhir+json',\n",
    "'Content-Type':'application/fhir+json'\n",
    "}\n",
    "profile = 'http://hl7.org/fhir/us/core/StructureDefinition/us-core-patient' # The official URL for this profile is: http://hl7.org/fhir/us/core/StructureDefinition/us-core-patient\n",
    "\n"
   ]
  },
  {
   "cell_type": "markdown",
   "metadata": {},
   "source": [
    "##  Defined functions\n",
    "\n",
    "The following 2 functions are defined:"
   ]
  },
  {
   "cell_type": "markdown",
   "metadata": {},
   "source": [
    "###  Srub Nulls\n",
    "\n",
    "Recursively remove all elements which contain \"Null\" data from the structure.  It is used after the python dictionary is created and before validation."
   ]
  },
  {
   "cell_type": "code",
   "execution_count": 23,
   "metadata": {},
   "outputs": [],
   "source": [
    "# *********************  Scrub \"null\" data **********************\n",
    "\n",
    "def scrub_dict(d): #scrub null or None elements from resource\n",
    "    unwanted = ['', u'', None, [], {}, 'None', -1, 'nulls']\n",
    "    if type(d) is dict:\n",
    "        return dict((k, scrub_dict(v)) for k, v in d.items() if v not in unwanted and scrub_dict(v))\n",
    "    elif type(d) is list:\n",
    "        return [scrub_dict(v) for v in d if v not in unwanted and scrub_dict(v)]\n",
    "    else:\n",
    "        return d\n",
    "\n",
    "\n"
   ]
  },
  {
   "cell_type": "markdown",
   "metadata": {},
   "source": [
    "### Create Patient Resource\n",
    "\n",
    "The FHIR/US_Core Patient Resource is represented in this function as a dictionary object and serves as a template for instantiating the a Patient resource.  These template are easily created from the [JSON Template representation](http://build.fhir.org/json.html) or a resource instance in JSON format.\n",
    "\n",
    "This template exploits the fact that the dictionary values are evaluated at run time and makes use of ternary operators, f strings, and python standard library functions to represent the various elements. More complex structure can be acheived by combining with sub_templates."
   ]
  },
  {
   "cell_type": "code",
   "execution_count": 24,
   "metadata": {},
   "outputs": [],
   "source": [
    "def make_pfhir(p_data):  #fhir us-core template as python dict\n",
    "\n",
    "    return {\n",
    "      'resourceType' : 'Patient',\n",
    "      'id' : f'201901-fhir-experience-patient-{p_data[\"row\"]}',\n",
    "      'meta' : {\n",
    "        'profile' : [\n",
    "          'http://hl7.org/fhir/us/core/StructureDefinition/us-core-patient'\n",
    "        ]\n",
    "      },\n",
    "      'extension' : [\n",
    "        {\n",
    "          'url' : 'http://hl7.org/fhir/us/core/StructureDefinition/us-core-race',\n",
    "          'extension' : [\n",
    "            {\n",
    "              'url' : 'ombCategory',\n",
    "              'valueCoding' : {\n",
    "                'system' : 'urn:oid:2.16.840.1.113883.6.238' if p_data['race_cat_1'].split('|',1)[0] not in ['UNK','ASKU'] else 'http://hl7.org/fhir/v3/NullFlavor',\n",
    "                'code' : p_data['race_cat_1'].split('|',1)[0],\n",
    "                'display' : p_data['race_cat_1'].split('|',1)[1]\n",
    "              }\n",
    "            } if p_data['race_cat_1'] else None,\n",
    "\n",
    "            {\n",
    "              'url' : 'detailed',\n",
    "              'valueCoding' : {\n",
    "                'system' : 'urn:oid:2.16.840.1.113883.6.238',\n",
    "                'code' : p_data['race_det_1'].split('|',1)[0],\n",
    "                'display' : p_data['race_det_1'].split('|',1)[1]\n",
    "              }\n",
    "            } if p_data['race_det_1'] else None,\n",
    "            {\n",
    "              'url' : 'text',\n",
    "              'valueString' : p_data['race_cat_1'].split('|',1)[1]\n",
    "            }\n",
    "          ]\n",
    "        },\n",
    "        {\n",
    "          'url' : 'http://hl7.org/fhir/us/core/StructureDefinition/us-core-ethnicity',\n",
    "          'extension' : [\n",
    "            {\n",
    "              'url' : 'ombCategory',\n",
    "              'valueCoding' : {\n",
    "                'system' : 'urn:oid:2.16.840.1.113883.6.238',\n",
    "                'code' : '2135-2' if p_data['ethn_cat']=='Hispanic or Latino' else '2186-5',\n",
    "                'display' : p_data['ethn_cat']\n",
    "              }\n",
    "            } if p_data['ethn_cat'] else None,\n",
    "            {\n",
    "              'url' : 'detailed',\n",
    "              'valueCoding' : {\n",
    "                'system' : 'urn:oid:2.16.840.1.113883.6.238',\n",
    "                'code' : p_data['ethn_det_1'].split('|',1)[0],\n",
    "                'display' : p_data['ethn_det_1'].split('|',1)[1]\n",
    "              }\n",
    "            } if p_data['ethn_det_1'] else None,\n",
    "            {\n",
    "              'url' : 'text',\n",
    "              'valueString' : p_data['ethn_cat']\n",
    "            }\n",
    "          ]\n",
    "        },\n",
    "        {\n",
    "          'url' : 'http://hl7.org/fhir/us/core/StructureDefinition/us-core-birthsex',\n",
    "          'valueCode' : p_data['b_sex']\n",
    "        }\n",
    "      ],\n",
    "      'identifier' : [\n",
    "        {\n",
    "          'use' : 'usual',\n",
    "          'type' : {\n",
    "            'coding' : [\n",
    "              {\n",
    "                'system' : 'http://hl7.org/fhir/v2/0203',\n",
    "                'code' : 'MR',\n",
    "                'display' : 'Medical Record Number'\n",
    "              }\n",
    "            ],\n",
    "            'text' : 'Medical Record Number'\n",
    "          },\n",
    "          'system' : 'http://hospital.smarthealthit.org',\n",
    "          'value' : p_data['mrn']\n",
    "        }\n",
    "      ],\n",
    "      'active' : True,\n",
    "      'name' : [\n",
    "        {\n",
    "          'family' : p_data['l_name'],\n",
    "          'given' : [\n",
    "            p_data['f_name'],\n",
    "            p_data['mi'] if p_data['mi'] else None\n",
    "          ]\n",
    "        }\n",
    "      ],\n",
    "      'gender' : p_data['gender'],\n",
    "      'birthDate' : p_data['b_date'],\n",
    "        'communication' : [{\n",
    "            'language' : {\n",
    "                 'coding' : [\n",
    "                   {\n",
    "                     'system' : 'urn:ietf:bcp:47',\n",
    "                    'code' : p_data['lang'].split('|',1)[0],\n",
    "                    'display' : p_data['lang'].split('|',1)[1]\n",
    "                   }\n",
    "                 ],\n",
    "                 'text' : p_data['lang'].split('|',1)[1]\n",
    "                }\n",
    "        } if p_data['lang'] else None,\n",
    "     ]\n",
    "    }\n"
   ]
  },
  {
   "cell_type": "markdown",
   "metadata": {},
   "source": [
    "#### Get patient data\n",
    "\n",
    "To populate the patient resource, the data is entered from some source.  The datasource may be a database, spreadsheet, manual entry\n",
    "(e.g. from a form).  In this example, data is entered in a spreadsheet form and saved as a CSV file to make things easier when\n",
    "it comes to data type conversion, since with a csv -everything is a string.\n",
    "\n",
    "Notice that there are several fields for race and ethnicity.  In this example only a single race and ethnicity category are used."
   ]
  },
  {
   "cell_type": "code",
   "execution_count": 66,
   "metadata": {},
   "outputs": [
    {
     "data": {
      "text/markdown": [
       "**Get data from csv file**"
      ],
      "text/plain": [
       "<IPython.core.display.Markdown object>"
      ]
     },
     "metadata": {},
     "output_type": "display_data"
    },
    {
     "data": {
      "text/html": [
       "<div>\n",
       "<style scoped>\n",
       "    .dataframe tbody tr th:only-of-type {\n",
       "        vertical-align: middle;\n",
       "    }\n",
       "\n",
       "    .dataframe tbody tr th {\n",
       "        vertical-align: top;\n",
       "    }\n",
       "\n",
       "    .dataframe thead th {\n",
       "        text-align: right;\n",
       "    }\n",
       "</style>\n",
       "<table border=\"1\" class=\"dataframe\">\n",
       "  <thead>\n",
       "    <tr style=\"text-align: right;\">\n",
       "      <th></th>\n",
       "      <th>row</th>\n",
       "      <th>mrn</th>\n",
       "      <th>f_name</th>\n",
       "      <th>l_name</th>\n",
       "      <th>mi</th>\n",
       "      <th>b_sex</th>\n",
       "      <th>gender</th>\n",
       "      <th>b_date</th>\n",
       "      <th>lang</th>\n",
       "      <th>race_cat_1</th>\n",
       "      <th>race_cat_2</th>\n",
       "      <th>race_cat_3</th>\n",
       "      <th>race_det_1</th>\n",
       "      <th>race_det_2</th>\n",
       "      <th>ethn_cat</th>\n",
       "      <th>ethn_det_1</th>\n",
       "      <th>ethn_det_2</th>\n",
       "    </tr>\n",
       "  </thead>\n",
       "  <tbody>\n",
       "    <tr>\n",
       "      <th>0</th>\n",
       "      <td>1000</td>\n",
       "      <td>1032702</td>\n",
       "      <td>Amy</td>\n",
       "      <td>Shaw</td>\n",
       "      <td>V,</td>\n",
       "      <td>F</td>\n",
       "      <td>female</td>\n",
       "      <td>2007-02-20</td>\n",
       "      <td>en|English</td>\n",
       "      <td>2106-3|White</td>\n",
       "      <td>1002-5|American Indian or Alaska Native</td>\n",
       "      <td>2028-9|Asian</td>\n",
       "      <td>1586-7|Shoshone</td>\n",
       "      <td>2036-2|Filipino</td>\n",
       "      <td>Hispanic or Latino</td>\n",
       "      <td>2184-0|Dominican</td>\n",
       "      <td>2148-5|Mexican</td>\n",
       "    </tr>\n",
       "    <tr>\n",
       "      <th>1</th>\n",
       "      <td>1001</td>\n",
       "      <td>1798520</td>\n",
       "      <td>Harold</td>\n",
       "      <td>Thalburg</td>\n",
       "      <td>G</td>\n",
       "      <td>M</td>\n",
       "      <td>male</td>\n",
       "      <td>1964-06-19</td>\n",
       "      <td>en|English</td>\n",
       "      <td>2106-3|White</td>\n",
       "      <td>NaN</td>\n",
       "      <td>NaN</td>\n",
       "      <td>2116-2|Scottish</td>\n",
       "      <td>NaN</td>\n",
       "      <td>Non Hispanic or Latino</td>\n",
       "      <td>NaN</td>\n",
       "      <td>NaN</td>\n",
       "    </tr>\n",
       "    <tr>\n",
       "      <th>2</th>\n",
       "      <td>1002</td>\n",
       "      <td>1827981</td>\n",
       "      <td>Josef</td>\n",
       "      <td>Banks</td>\n",
       "      <td>E</td>\n",
       "      <td>M</td>\n",
       "      <td>male</td>\n",
       "      <td>1954-01-03</td>\n",
       "      <td>de-AT|German (Austria)</td>\n",
       "      <td>ASKU|Asked but no answer</td>\n",
       "      <td>NaN</td>\n",
       "      <td>NaN</td>\n",
       "      <td>NaN</td>\n",
       "      <td>NaN</td>\n",
       "      <td>Non Hispanic or Latino</td>\n",
       "      <td>NaN</td>\n",
       "      <td>NaN</td>\n",
       "    </tr>\n",
       "    <tr>\n",
       "      <th>3</th>\n",
       "      <td>1003</td>\n",
       "      <td>1234568</td>\n",
       "      <td>Marie</td>\n",
       "      <td>Espinoza</td>\n",
       "      <td>NaN</td>\n",
       "      <td>F</td>\n",
       "      <td>female</td>\n",
       "      <td>1980-02-02</td>\n",
       "      <td>es|Spanish</td>\n",
       "      <td>2106-3|White</td>\n",
       "      <td>NaN</td>\n",
       "      <td>NaN</td>\n",
       "      <td>NaN</td>\n",
       "      <td>NaN</td>\n",
       "      <td>Hispanic or Latino</td>\n",
       "      <td>2180-8|Puerto Rican</td>\n",
       "      <td>NaN</td>\n",
       "    </tr>\n",
       "    <tr>\n",
       "      <th>4</th>\n",
       "      <td>1004</td>\n",
       "      <td>7855521</td>\n",
       "      <td>Sofia</td>\n",
       "      <td>Juarez</td>\n",
       "      <td>NaN</td>\n",
       "      <td>F</td>\n",
       "      <td>female</td>\n",
       "      <td>1986-08-10</td>\n",
       "      <td>es|Spanish</td>\n",
       "      <td>2106-3|White</td>\n",
       "      <td>NaN</td>\n",
       "      <td>NaN</td>\n",
       "      <td>NaN</td>\n",
       "      <td>NaN</td>\n",
       "      <td>Hispanic or Latino</td>\n",
       "      <td>2148-5|Mexican</td>\n",
       "      <td>NaN</td>\n",
       "    </tr>\n",
       "    <tr>\n",
       "      <th>5</th>\n",
       "      <td>1005</td>\n",
       "      <td>1258622</td>\n",
       "      <td>An</td>\n",
       "      <td>Nguyen</td>\n",
       "      <td>P</td>\n",
       "      <td>M</td>\n",
       "      <td>male</td>\n",
       "      <td>1990-10-15</td>\n",
       "      <td>en|English</td>\n",
       "      <td>2028-9|Asian</td>\n",
       "      <td>NaN</td>\n",
       "      <td>NaN</td>\n",
       "      <td>2047-9|Vietnamese</td>\n",
       "      <td>NaN</td>\n",
       "      <td>Non Hispanic or Latino</td>\n",
       "      <td>NaN</td>\n",
       "      <td>NaN</td>\n",
       "    </tr>\n",
       "  </tbody>\n",
       "</table>\n",
       "</div>"
      ],
      "text/plain": [
       "    row      mrn  f_name    l_name   mi b_sex  gender      b_date  \\\n",
       "0  1000  1032702     Amy      Shaw   V,     F  female  2007-02-20   \n",
       "1  1001  1798520  Harold  Thalburg    G     M    male  1964-06-19   \n",
       "2  1002  1827981   Josef     Banks    E     M    male  1954-01-03   \n",
       "3  1003  1234568   Marie  Espinoza  NaN     F  female  1980-02-02   \n",
       "4  1004  7855521   Sofia    Juarez  NaN     F  female  1986-08-10   \n",
       "5  1005  1258622      An    Nguyen    P     M    male  1990-10-15   \n",
       "\n",
       "                     lang                race_cat_1  \\\n",
       "0              en|English              2106-3|White   \n",
       "1              en|English              2106-3|White   \n",
       "2  de-AT|German (Austria)  ASKU|Asked but no answer   \n",
       "3              es|Spanish              2106-3|White   \n",
       "4              es|Spanish              2106-3|White   \n",
       "5              en|English              2028-9|Asian   \n",
       "\n",
       "                                race_cat_2    race_cat_3         race_det_1  \\\n",
       "0  1002-5|American Indian or Alaska Native  2028-9|Asian    1586-7|Shoshone   \n",
       "1                                      NaN           NaN    2116-2|Scottish   \n",
       "2                                      NaN           NaN                NaN   \n",
       "3                                      NaN           NaN                NaN   \n",
       "4                                      NaN           NaN                NaN   \n",
       "5                                      NaN           NaN  2047-9|Vietnamese   \n",
       "\n",
       "        race_det_2                ethn_cat           ethn_det_1  \\\n",
       "0  2036-2|Filipino      Hispanic or Latino     2184-0|Dominican   \n",
       "1              NaN  Non Hispanic or Latino                  NaN   \n",
       "2              NaN  Non Hispanic or Latino                  NaN   \n",
       "3              NaN      Hispanic or Latino  2180-8|Puerto Rican   \n",
       "4              NaN      Hispanic or Latino       2148-5|Mexican   \n",
       "5              NaN  Non Hispanic or Latino                  NaN   \n",
       "\n",
       "       ethn_det_2  \n",
       "0  2148-5|Mexican  \n",
       "1             NaN  \n",
       "2             NaN  \n",
       "3             NaN  \n",
       "4             NaN  \n",
       "5             NaN  "
      ]
     },
     "execution_count": 66,
     "metadata": {},
     "output_type": "execute_result"
    }
   ],
   "source": [
    "#********************* get patient data **********************\n",
    "# get data from form ( csv file )\n",
    "df1 = read_csv(in_path)\n",
    "\n",
    "display(Markdown('**Get data from csv file**'))\n",
    "\n",
    "df1\n"
   ]
  },
  {
   "cell_type": "code",
   "execution_count": 67,
   "metadata": {},
   "outputs": [
    {
     "data": {
      "text/markdown": [
       "**CSV file data for row = 1000**"
      ],
      "text/plain": [
       "<IPython.core.display.Markdown object>"
      ]
     },
     "metadata": {},
     "output_type": "display_data"
    },
    {
     "name": "stdout",
     "output_type": "stream",
     "text": [
      "row = 1000\n",
      "mrn = 1032702\n",
      "f_name = Amy\n",
      "l_name = Shaw\n",
      "mi = V,\n",
      "b_sex = F\n",
      "gender = female\n",
      "b_date = 2007-02-20\n",
      "lang = en|English\n",
      "race_cat_1 = 2106-3|White\n",
      "race_cat_2 = 1002-5|American Indian or Alaska Native\n",
      "race_cat_3 = 2028-9|Asian\n",
      "race_det_1 = 1586-7|Shoshone\n",
      "race_det_2 = 2036-2|Filipino\n",
      "ethn_cat = Hispanic or Latino\n",
      "ethn_det_1 = 2184-0|Dominican\n",
      "ethn_det_2 = 2148-5|Mexican\n"
     ]
    },
    {
     "data": {
      "text/markdown": [
       "**CSV file data for row = 1001**"
      ],
      "text/plain": [
       "<IPython.core.display.Markdown object>"
      ]
     },
     "metadata": {},
     "output_type": "display_data"
    },
    {
     "name": "stdout",
     "output_type": "stream",
     "text": [
      "row = 1001\n",
      "mrn = 1798520\n",
      "f_name = Harold\n",
      "l_name = Thalburg\n",
      "mi = G\n",
      "b_sex = M\n",
      "gender = male\n",
      "b_date = 1964-06-19\n",
      "lang = en|English\n",
      "race_cat_1 = 2106-3|White\n",
      "race_cat_2 = \n",
      "race_cat_3 = \n",
      "race_det_1 = 2116-2|Scottish\n",
      "race_det_2 = \n",
      "ethn_cat = Non Hispanic or Latino\n",
      "ethn_det_1 = \n",
      "ethn_det_2 = \n"
     ]
    },
    {
     "data": {
      "text/markdown": [
       "**CSV file data for row = 1002**"
      ],
      "text/plain": [
       "<IPython.core.display.Markdown object>"
      ]
     },
     "metadata": {},
     "output_type": "display_data"
    },
    {
     "name": "stdout",
     "output_type": "stream",
     "text": [
      "row = 1002\n",
      "mrn = 1827981\n",
      "f_name = Josef\n",
      "l_name = Banks\n",
      "mi = E\n",
      "b_sex = M\n",
      "gender = male\n",
      "b_date = 1954-01-03\n",
      "lang = de-AT|German (Austria)\n",
      "race_cat_1 = ASKU|Asked but no answer\n",
      "race_cat_2 = \n",
      "race_cat_3 = \n",
      "race_det_1 = \n",
      "race_det_2 = \n",
      "ethn_cat = Non Hispanic or Latino\n",
      "ethn_det_1 = \n",
      "ethn_det_2 = \n"
     ]
    },
    {
     "data": {
      "text/markdown": [
       "**CSV file data for row = 1003**"
      ],
      "text/plain": [
       "<IPython.core.display.Markdown object>"
      ]
     },
     "metadata": {},
     "output_type": "display_data"
    },
    {
     "name": "stdout",
     "output_type": "stream",
     "text": [
      "row = 1003\n",
      "mrn = 1234568\n",
      "f_name = Marie\n",
      "l_name = Espinoza\n",
      "mi = \n",
      "b_sex = F\n",
      "gender = female\n",
      "b_date = 1980-02-02\n",
      "lang = es|Spanish\n",
      "race_cat_1 = 2106-3|White\n",
      "race_cat_2 = \n",
      "race_cat_3 = \n",
      "race_det_1 = \n",
      "race_det_2 = \n",
      "ethn_cat = Hispanic or Latino\n",
      "ethn_det_1 = 2180-8|Puerto Rican\n",
      "ethn_det_2 = \n"
     ]
    },
    {
     "data": {
      "text/markdown": [
       "**CSV file data for row = 1004**"
      ],
      "text/plain": [
       "<IPython.core.display.Markdown object>"
      ]
     },
     "metadata": {},
     "output_type": "display_data"
    },
    {
     "name": "stdout",
     "output_type": "stream",
     "text": [
      "row = 1004\n",
      "mrn = 7855521\n",
      "f_name = Sofia\n",
      "l_name = Juarez\n",
      "mi = \n",
      "b_sex = F\n",
      "gender = female\n",
      "b_date = 1986-08-10\n",
      "lang = es|Spanish\n",
      "race_cat_1 = 2106-3|White\n",
      "race_cat_2 = \n",
      "race_cat_3 = \n",
      "race_det_1 = \n",
      "race_det_2 = \n",
      "ethn_cat = Hispanic or Latino\n",
      "ethn_det_1 = 2148-5|Mexican\n",
      "ethn_det_2 = \n"
     ]
    },
    {
     "data": {
      "text/markdown": [
       "**CSV file data for row = 1005**"
      ],
      "text/plain": [
       "<IPython.core.display.Markdown object>"
      ]
     },
     "metadata": {},
     "output_type": "display_data"
    },
    {
     "name": "stdout",
     "output_type": "stream",
     "text": [
      "row = 1005\n",
      "mrn = 1258622\n",
      "f_name = An\n",
      "l_name = Nguyen\n",
      "mi = P\n",
      "b_sex = M\n",
      "gender = male\n",
      "b_date = 1990-10-15\n",
      "lang = en|English\n",
      "race_cat_1 = 2028-9|Asian\n",
      "race_cat_2 = \n",
      "race_cat_3 = \n",
      "race_det_1 = 2047-9|Vietnamese\n",
      "race_det_2 = \n",
      "ethn_cat = Non Hispanic or Latino\n",
      "ethn_det_1 = \n",
      "ethn_det_2 = \n"
     ]
    }
   ],
   "source": [
    "with open(in_path, mode='r',encoding='utf-8-sig') as csv_file:\n",
    "    csv_reader = DictReader(csv_file)\n",
    "    for data in csv_reader:\n",
    "\n",
    "        display(Markdown (f'**CSV file data for row = {data[\"row\"]}**'))\n",
    " \n",
    "        for k,v in data.items():\n",
    "            print(f'{k} = {v}')"
   ]
  },
  {
   "cell_type": "markdown",
   "metadata": {},
   "source": [
    "#### Create Patient resource\n",
    "\n",
    "After getting the source data, the patient resource can be populated.   The following code cell calls the make_pfhir function and passes all the csv data for each row( as dict = key value pairs). "
   ]
  },
  {
   "cell_type": "code",
   "execution_count": 68,
   "metadata": {},
   "outputs": [
    {
     "data": {
      "text/markdown": [
       "**patient resource ( as python dict ) before scrubbing out nulls.**"
      ],
      "text/plain": [
       "<IPython.core.display.Markdown object>"
      ]
     },
     "metadata": {},
     "output_type": "display_data"
    },
    {
     "data": {
      "text/markdown": [
       "`{'resourceType': 'Patient', 'id': '201901-fhir-experience-patient-1005', 'meta': {'profile': ['http://hl7.org/fhir/us/core/StructureDefinition/us-core-patient']}, 'extension': [{'url': 'http://hl7.org/fhir/us/core/StructureDefinition/us-core-race', 'extension': [{'url': 'ombCategory', 'valueCoding': {'system': 'urn:oid:2.16.840.1.113883.6.238', 'code': '2028-9', 'display': 'Asian'}}, {'url': 'detailed', 'valueCoding': {'system': 'urn:oid:2.16.840.1.113883.6.238', 'code': '2047-9', 'display': 'Vietnamese'}}, {'url': 'text', 'valueString': 'Asian'}]}, {'url': 'http://hl7.org/fhir/us/core/StructureDefinition/us-core-ethnicity', 'extension': [{'url': 'ombCategory', 'valueCoding': {'system': 'urn:oid:2.16.840.1.113883.6.238', 'code': '2186-5', 'display': 'Non Hispanic or Latino'}}, None, {'url': 'text', 'valueString': 'Non Hispanic or Latino'}]}, {'url': 'http://hl7.org/fhir/us/core/StructureDefinition/us-core-birthsex', 'valueCode': 'M'}], 'identifier': [{'use': 'usual', 'type': {'coding': [{'system': 'http://hl7.org/fhir/v2/0203', 'code': 'MR', 'display': 'Medical Record Number'}], 'text': 'Medical Record Number'}, 'system': 'http://hospital.smarthealthit.org', 'value': '1258622'}], 'active': True, 'name': [{'family': 'Nguyen', 'given': ['An', 'P']}], 'gender': 'male', 'birthDate': '1990-10-15', 'communication': [{'language': {'coding': [{'system': 'urn:ietf:bcp:47', 'code': 'en', 'display': 'English'}], 'text': 'English'}}]}`"
      ],
      "text/plain": [
       "<IPython.core.display.Markdown object>"
      ]
     },
     "metadata": {},
     "output_type": "display_data"
    }
   ],
   "source": [
    "patient = make_pfhir(data) if data['mrn'] else 'no patient data for this row'\n",
    "\n",
    "display(Markdown('**patient resource ( as python dict ) before scrubbing out nulls.**'))\n",
    "display(Markdown(f'`{patient}`'))\n"
   ]
  },
  {
   "cell_type": "markdown",
   "metadata": {},
   "source": [
    "####  Scrub Null valued Elements\n",
    " \n",
    "If any elements have a null value they are removed, because in FHIR when present, elements *cannot* be empty"
   ]
  },
  {
   "cell_type": "code",
   "execution_count": 69,
   "metadata": {},
   "outputs": [
    {
     "data": {
      "text/markdown": [
       "**patient resource ( as python dict ) after scrubbing out nulls.**"
      ],
      "text/plain": [
       "<IPython.core.display.Markdown object>"
      ]
     },
     "metadata": {},
     "output_type": "display_data"
    },
    {
     "data": {
      "text/markdown": [
       "`{'resourceType': 'Patient', 'id': '201901-fhir-experience-patient-1005', 'meta': {'profile': ['http://hl7.org/fhir/us/core/StructureDefinition/us-core-patient']}, 'extension': [{'url': 'http://hl7.org/fhir/us/core/StructureDefinition/us-core-race', 'extension': [{'url': 'ombCategory', 'valueCoding': {'system': 'urn:oid:2.16.840.1.113883.6.238', 'code': '2028-9', 'display': 'Asian'}}, {'url': 'detailed', 'valueCoding': {'system': 'urn:oid:2.16.840.1.113883.6.238', 'code': '2047-9', 'display': 'Vietnamese'}}, {'url': 'text', 'valueString': 'Asian'}]}, {'url': 'http://hl7.org/fhir/us/core/StructureDefinition/us-core-ethnicity', 'extension': [{'url': 'ombCategory', 'valueCoding': {'system': 'urn:oid:2.16.840.1.113883.6.238', 'code': '2186-5', 'display': 'Non Hispanic or Latino'}}, {'url': 'text', 'valueString': 'Non Hispanic or Latino'}]}, {'url': 'http://hl7.org/fhir/us/core/StructureDefinition/us-core-birthsex', 'valueCode': 'M'}], 'identifier': [{'use': 'usual', 'type': {'coding': [{'system': 'http://hl7.org/fhir/v2/0203', 'code': 'MR', 'display': 'Medical Record Number'}], 'text': 'Medical Record Number'}, 'system': 'http://hospital.smarthealthit.org', 'value': '1258622'}], 'active': True, 'name': [{'family': 'Nguyen', 'given': ['An', 'P']}], 'gender': 'male', 'birthDate': '1990-10-15', 'communication': [{'language': {'coding': [{'system': 'urn:ietf:bcp:47', 'code': 'en', 'display': 'English'}], 'text': 'English'}}]}`"
      ],
      "text/plain": [
       "<IPython.core.display.Markdown object>"
      ]
     },
     "metadata": {},
     "output_type": "display_data"
    }
   ],
   "source": [
    "patient = scrub_dict(patient) #scrub null or None data\n",
    "\n",
    "display(Markdown('**patient resource ( as python dict ) after scrubbing out nulls.**'))\n",
    "display(Markdown(f'`{patient}`'))\n",
    "\n"
   ]
  },
  {
   "cell_type": "markdown",
   "metadata": {},
   "source": [
    "#### Pretty Print the resource as a json string\n",
    "\n",
    "In Python the resource is represented as a 'dict' type.  to share this data it needs to be converted to JSON format using the Python standard library methods from the \"json\" module"
   ]
  },
  {
   "cell_type": "code",
   "execution_count": 70,
   "metadata": {},
   "outputs": [
    {
     "data": {
      "text/markdown": [
       "**Pretty print the resource as a json string ...**"
      ],
      "text/plain": [
       "<IPython.core.display.Markdown object>"
      ]
     },
     "metadata": {},
     "output_type": "display_data"
    },
    {
     "data": {
      "text/markdown": [
       "`{\n",
       "   \"resourceType\": \"Patient\",\n",
       "   \"id\": \"201901-fhir-experience-patient-1005\",\n",
       "   \"meta\": {\n",
       "      \"profile\": [\n",
       "         \"http://hl7.org/fhir/us/core/StructureDefinition/us-core-patient\"\n",
       "      ]\n",
       "   },\n",
       "   \"extension\": [\n",
       "      {\n",
       "         \"url\": \"http://hl7.org/fhir/us/core/StructureDefinition/us-core-race\",\n",
       "         \"extension\": [\n",
       "            {\n",
       "               \"url\": \"ombCategory\",\n",
       "               \"valueCoding\": {\n",
       "                  \"system\": \"urn:oid:2.16.840.1.113883.6.238\",\n",
       "                  \"code\": \"2028-9\",\n",
       "                  \"display\": \"Asian\"\n",
       "               }\n",
       "            },\n",
       "            {\n",
       "               \"url\": \"detailed\",\n",
       "               \"valueCoding\": {\n",
       "                  \"system\": \"urn:oid:2.16.840.1.113883.6.238\",\n",
       "                  \"code\": \"2047-9\",\n",
       "                  \"display\": \"Vietnamese\"\n",
       "               }\n",
       "            },\n",
       "            {\n",
       "               \"url\": \"text\",\n",
       "               \"valueString\": \"Asian\"\n",
       "            }\n",
       "         ]\n",
       "      },\n",
       "      {\n",
       "         \"url\": \"http://hl7.org/fhir/us/core/StructureDefinition/us-core-ethnicity\",\n",
       "         \"extension\": [\n",
       "            {\n",
       "               \"url\": \"ombCategory\",\n",
       "               \"valueCoding\": {\n",
       "                  \"system\": \"urn:oid:2.16.840.1.113883.6.238\",\n",
       "                  \"code\": \"2186-5\",\n",
       "                  \"display\": \"Non Hispanic or Latino\"\n",
       "               }\n",
       "            },\n",
       "            {\n",
       "               \"url\": \"text\",\n",
       "               \"valueString\": \"Non Hispanic or Latino\"\n",
       "            }\n",
       "         ]\n",
       "      },\n",
       "      {\n",
       "         \"url\": \"http://hl7.org/fhir/us/core/StructureDefinition/us-core-birthsex\",\n",
       "         \"valueCode\": \"M\"\n",
       "      }\n",
       "   ],\n",
       "   \"identifier\": [\n",
       "      {\n",
       "         \"use\": \"usual\",\n",
       "         \"type\": {\n",
       "            \"coding\": [\n",
       "               {\n",
       "                  \"system\": \"http://hl7.org/fhir/v2/0203\",\n",
       "                  \"code\": \"MR\",\n",
       "                  \"display\": \"Medical Record Number\"\n",
       "               }\n",
       "            ],\n",
       "            \"text\": \"Medical Record Number\"\n",
       "         },\n",
       "         \"system\": \"http://hospital.smarthealthit.org\",\n",
       "         \"value\": \"1258622\"\n",
       "      }\n",
       "   ],\n",
       "   \"active\": true,\n",
       "   \"name\": [\n",
       "      {\n",
       "         \"family\": \"Nguyen\",\n",
       "         \"given\": [\n",
       "            \"An\",\n",
       "            \"P\"\n",
       "         ]\n",
       "      }\n",
       "   ],\n",
       "   \"gender\": \"male\",\n",
       "   \"birthDate\": \"1990-10-15\",\n",
       "   \"communication\": [\n",
       "      {\n",
       "         \"language\": {\n",
       "            \"coding\": [\n",
       "               {\n",
       "                  \"system\": \"urn:ietf:bcp:47\",\n",
       "                  \"code\": \"en\",\n",
       "                  \"display\": \"English\"\n",
       "               }\n",
       "            ],\n",
       "            \"text\": \"English\"\n",
       "         }\n",
       "      }\n",
       "   ]\n",
       "}`"
      ],
      "text/plain": [
       "<IPython.core.display.Markdown object>"
      ]
     },
     "metadata": {},
     "output_type": "display_data"
    }
   ],
   "source": [
    "# pretty print the resource as a json string  ( in Python is a 'dict' type)\n",
    "\n",
    "\n",
    "display(Markdown('**Pretty print the resource as a json string ...**'))\n",
    "display(Markdown(f'`{dumps(patient,indent =3)}`'))\n"
   ]
  },
  {
   "cell_type": "markdown",
   "metadata": {},
   "source": [
    "####  Validate the Resource\n",
    "\n",
    "Using the [$validate](http://build.fhir.org/resource-operation-validate.html) operation, the example is validated \n",
    "by a FHIR Reference Server.  The results are displayed below in the human readable text as xhtml."
   ]
  },
  {
   "cell_type": "code",
   "execution_count": 71,
   "metadata": {},
   "outputs": [
    {
     "data": {
      "text/markdown": [
       "<h1>Validation output</h1><div xmlns=\"http://www.w3.org/1999/xhtml\"><table class=\"grid\"><tr><td><b>Severity</b></td><td><b>Location</b></td><td><b>Code</b></td><td><b>Details</b></td><td><b>Diagnostics</b></td></tr><tr><td>INFORMATION</td><td/><td>Informational Note</td><td>Validation successful, no issues found</td><td>Validation successful, no issues found</td></tr></table></div>"
      ],
      "text/plain": [
       "<IPython.core.display.Markdown object>"
      ]
     },
     "metadata": {},
     "output_type": "display_data"
    }
   ],
   "source": [
    "# *********************** validate Resource ********************************\n",
    "\n",
    "params = {\n",
    "'profile': profile\n",
    "}\n",
    "#   r = requests.post('https://httpbin.org/post', data = {'key':'value'})\n",
    "r = post(f'{fhir_test_server}/Patient/$validate', params = params, headers = headers, data = dumps(patient))\n",
    "# print(r.status_code)\n",
    "# view  output\n",
    "display(Markdown(f'<h1>Validation output</h1>{r.json()[\"text\"][\"div\"]}'))\n",
    "\n"
   ]
  },
  {
   "cell_type": "markdown",
   "metadata": {},
   "source": [
    "##### PUT Resource on FHIR Server\n",
    "\n",
    "Using the FHIR RESTful `PUT` transaction, the resource is loaded onto the FHIR test server. The results are displayed below in the human readable text as xhtml."
   ]
  },
  {
   "cell_type": "code",
   "execution_count": 72,
   "metadata": {},
   "outputs": [
    {
     "data": {
      "text/markdown": [
       "<h1>Put Response</h1><p><strong>Transaction Status</strong> = 200</p><div xmlns=\"http://www.w3.org/1999/xhtml\"><p><b>Generated Narrative with Details</b></p><p><b>identifier</b>: Medical Record Number = 1258622 (USUAL)      \n",
       "      </p><p><b>active</b>: true      \n",
       "      </p><p><b>name</b>: An P Nguyen       \n",
       "      </p><p><b>gender</b>: MALE      \n",
       "      </p><p><b>birthDate</b>: Oct 15, 1990      \n",
       "      </p><h3>Communications</h3><table class=\"grid\"><tr><td>-</td><td><b>Language</b></td></tr><tr><td>*</td><td>English             \n",
       "            <span style=\"background: LightGoldenRodYellow\">(Details : {urn:ietf:bcp:47 code 'en' = 'en', given as 'English'})</span></td></tr></table></div><p>raw output :</p><code>{\n",
       "   \"resourceType\": \"Patient\",\n",
       "   \"id\": \"201901-fhir-experience-patient-1005\",\n",
       "   \"meta\": {\n",
       "      \"versionId\": \"2\",\n",
       "      \"lastUpdated\": \"2019-01-07T19:43:11.951-05:00\",\n",
       "      \"profile\": [\n",
       "         \"http://hl7.org/fhir/us/core/StructureDefinition/us-core-patient\"\n",
       "      ]\n",
       "   },\n",
       "   \"text\": {\n",
       "      \"status\": \"generated\",\n",
       "      \"div\": \"<div xmlns=\\\"http://www.w3.org/1999/xhtml\\\"><p><b>Generated Narrative with Details</b></p><p><b>identifier</b>: Medical Record Number = 1258622 (USUAL)      \\n      </p><p><b>active</b>: true      \\n      </p><p><b>name</b>: An P Nguyen       \\n      </p><p><b>gender</b>: MALE      \\n      </p><p><b>birthDate</b>: Oct 15, 1990      \\n      </p><h3>Communications</h3><table class=\\\"grid\\\"><tr><td>-</td><td><b>Language</b></td></tr><tr><td>*</td><td>English             \\n            <span style=\\\"background: LightGoldenRodYellow\\\">(Details : {urn:ietf:bcp:47 code 'en' = 'en', given as 'English'})</span></td></tr></table></div>\"\n",
       "   },\n",
       "   \"extension\": [\n",
       "      {\n",
       "         \"extension\": [\n",
       "            {\n",
       "               \"url\": \"ombCategory\",\n",
       "               \"valueCoding\": {\n",
       "                  \"system\": \"urn:oid:2.16.840.1.113883.6.238\",\n",
       "                  \"code\": \"2028-9\",\n",
       "                  \"display\": \"Asian\"\n",
       "               }\n",
       "            },\n",
       "            {\n",
       "               \"url\": \"detailed\",\n",
       "               \"valueCoding\": {\n",
       "                  \"system\": \"urn:oid:2.16.840.1.113883.6.238\",\n",
       "                  \"code\": \"2047-9\",\n",
       "                  \"display\": \"Vietnamese\"\n",
       "               }\n",
       "            },\n",
       "            {\n",
       "               \"url\": \"text\",\n",
       "               \"valueString\": \"Asian\"\n",
       "            }\n",
       "         ],\n",
       "         \"url\": \"http://hl7.org/fhir/us/core/StructureDefinition/us-core-race\"\n",
       "      },\n",
       "      {\n",
       "         \"extension\": [\n",
       "            {\n",
       "               \"url\": \"ombCategory\",\n",
       "               \"valueCoding\": {\n",
       "                  \"system\": \"urn:oid:2.16.840.1.113883.6.238\",\n",
       "                  \"code\": \"2186-5\",\n",
       "                  \"display\": \"Non Hispanic or Latino\"\n",
       "               }\n",
       "            },\n",
       "            {\n",
       "               \"url\": \"text\",\n",
       "               \"valueString\": \"Non Hispanic or Latino\"\n",
       "            }\n",
       "         ],\n",
       "         \"url\": \"http://hl7.org/fhir/us/core/StructureDefinition/us-core-ethnicity\"\n",
       "      },\n",
       "      {\n",
       "         \"url\": \"http://hl7.org/fhir/us/core/StructureDefinition/us-core-birthsex\",\n",
       "         \"valueCode\": \"M\"\n",
       "      }\n",
       "   ],\n",
       "   \"identifier\": [\n",
       "      {\n",
       "         \"use\": \"usual\",\n",
       "         \"type\": {\n",
       "            \"coding\": [\n",
       "               {\n",
       "                  \"system\": \"http://hl7.org/fhir/v2/0203\",\n",
       "                  \"code\": \"MR\",\n",
       "                  \"display\": \"Medical Record Number\"\n",
       "               }\n",
       "            ],\n",
       "            \"text\": \"Medical Record Number\"\n",
       "         },\n",
       "         \"system\": \"http://hospital.smarthealthit.org\",\n",
       "         \"value\": \"1258622\"\n",
       "      }\n",
       "   ],\n",
       "   \"active\": true,\n",
       "   \"name\": [\n",
       "      {\n",
       "         \"family\": \"Nguyen\",\n",
       "         \"given\": [\n",
       "            \"An\",\n",
       "            \"P\"\n",
       "         ]\n",
       "      }\n",
       "   ],\n",
       "   \"gender\": \"male\",\n",
       "   \"birthDate\": \"1990-10-15\",\n",
       "   \"communication\": [\n",
       "      {\n",
       "         \"language\": {\n",
       "            \"coding\": [\n",
       "               {\n",
       "                  \"system\": \"urn:ietf:bcp:47\",\n",
       "                  \"code\": \"en\",\n",
       "                  \"display\": \"English\"\n",
       "               }\n",
       "            ],\n",
       "            \"text\": \"English\"\n",
       "         }\n",
       "      }\n",
       "   ]\n",
       "}</code>"
      ],
      "text/plain": [
       "<IPython.core.display.Markdown object>"
      ]
     },
     "metadata": {},
     "output_type": "display_data"
    }
   ],
   "source": [
    "# *********************** PUT Resource on server********************************\n",
    "\n",
    "\n",
    "#   r = requests.post('https://httpbin.org/post', data = {'key':'value'})\n",
    "r = put(f'{fhir_test_server}/Patient/{patient[\"id\"]}', headers = headers, data = dumps(patient))\n",
    "display(Markdown(f'<h1>Put Response</h1><p><strong>Transaction Status</strong> = {r.status_code}</p>{r.json()[\"text\"][\"div\"]}<p>raw output :</p><code>{dumps(r.json(),indent=3)}</code>'))\n"
   ]
  },
  {
   "cell_type": "markdown",
   "metadata": {},
   "source": [
    "##### GET Resource from FHIR Server in XML format\n",
    "\n",
    "Using the FHIR RESTful `GET` transaction, fetch the resource from the FHIR test server. The results are displayed below  human  xml."
   ]
  },
  {
   "cell_type": "code",
   "execution_count": 75,
   "metadata": {},
   "outputs": [
    {
     "data": {
      "text/markdown": [
       "<h1>Get Resource as XML</h1><p><strong>Transaction Status</strong> = 200</p><textarea rows=\"50\" cols=\"79\"><?xml version=\"1.0\" encoding=\"UTF-8\"?>\n",
       "\n",
       "<Patient xmlns=\"http://hl7.org/fhir\">\n",
       "  <id value=\"201901-fhir-experience-patient-1005\"/>\n",
       "  <meta>\n",
       "    <versionId value=\"2\"/>\n",
       "    <lastUpdated value=\"2019-01-07T19:43:11.951-05:00\"/>\n",
       "    <profile value=\"http://hl7.org/fhir/us/core/StructureDefinition/us-core-patient\"/>\n",
       "  </meta>\n",
       "  <text>\n",
       "    <status value=\"generated\"/>\n",
       "    <div xmlns=\"http://www.w3.org/1999/xhtml\">\n",
       "      <p>\n",
       "        <b>Generated Narrative with Details</b>\n",
       "      </p>\n",
       "      <p>\n",
       "        <b>identifier</b>: Medical Record Number = 1258622 (USUAL)      \n",
       "      </p>\n",
       "      <p>\n",
       "        <b>active</b>: true      \n",
       "      </p>\n",
       "      <p>\n",
       "        <b>name</b>: An P Nguyen       \n",
       "      </p>\n",
       "      <p>\n",
       "        <b>gender</b>: MALE      \n",
       "      </p>\n",
       "      <p>\n",
       "        <b>birthDate</b>: Oct 15, 1990      \n",
       "      </p>\n",
       "      <h3>Communications</h3>\n",
       "      <table class=\"grid\">\n",
       "        <tr>\n",
       "          <td>-</td>\n",
       "          <td>\n",
       "            <b>Language</b>\n",
       "          </td>\n",
       "        </tr>\n",
       "        <tr>\n",
       "          <td>*</td>\n",
       "          <td>English             \n",
       "            <span style=\"background: LightGoldenRodYellow\">(Details : {urn:ietf:bcp:47 code &#39;en&#39; = &#39;en&#39;, given as &#39;English&#39;})</span>\n",
       "          </td>\n",
       "        </tr>\n",
       "      </table>\n",
       "    </div>\n",
       "  </text>\n",
       "  <extension url=\"http://hl7.org/fhir/us/core/StructureDefinition/us-core-race\">\n",
       "    <extension url=\"ombCategory\">\n",
       "      <valueCoding>\n",
       "        <system value=\"urn:oid:2.16.840.1.113883.6.238\"/>\n",
       "        <code value=\"2028-9\"/>\n",
       "        <display value=\"Asian\"/>\n",
       "      </valueCoding>\n",
       "    </extension>\n",
       "    <extension url=\"detailed\">\n",
       "      <valueCoding>\n",
       "        <system value=\"urn:oid:2.16.840.1.113883.6.238\"/>\n",
       "        <code value=\"2047-9\"/>\n",
       "        <display value=\"Vietnamese\"/>\n",
       "      </valueCoding>\n",
       "    </extension>\n",
       "    <extension url=\"text\">\n",
       "      <valueString value=\"Asian\"/>\n",
       "    </extension>\n",
       "  </extension>\n",
       "  <extension url=\"http://hl7.org/fhir/us/core/StructureDefinition/us-core-ethnicity\">\n",
       "    <extension url=\"ombCategory\">\n",
       "      <valueCoding>\n",
       "        <system value=\"urn:oid:2.16.840.1.113883.6.238\"/>\n",
       "        <code value=\"2186-5\"/>\n",
       "        <display value=\"Non Hispanic or Latino\"/>\n",
       "      </valueCoding>\n",
       "    </extension>\n",
       "    <extension url=\"text\">\n",
       "      <valueString value=\"Non Hispanic or Latino\"/>\n",
       "    </extension>\n",
       "  </extension>\n",
       "  <extension url=\"http://hl7.org/fhir/us/core/StructureDefinition/us-core-birthsex\">\n",
       "    <valueCode value=\"M\"/>\n",
       "  </extension>\n",
       "  <identifier>\n",
       "    <use value=\"usual\"/>\n",
       "    <type>\n",
       "      <coding>\n",
       "        <system value=\"http://hl7.org/fhir/v2/0203\"/>\n",
       "        <code value=\"MR\"/>\n",
       "        <display value=\"Medical Record Number\"/>\n",
       "      </coding>\n",
       "      <text value=\"Medical Record Number\"/>\n",
       "    </type>\n",
       "    <system value=\"http://hospital.smarthealthit.org\"/>\n",
       "    <value value=\"1258622\"/>\n",
       "  </identifier>\n",
       "  <active value=\"true\"/>\n",
       "  <name>\n",
       "    <family value=\"Nguyen\"/>\n",
       "    <given value=\"An\"/>\n",
       "    <given value=\"P\"/>\n",
       "  </name>\n",
       "  <gender value=\"male\"/>\n",
       "  <birthDate value=\"1990-10-15\"/>\n",
       "  <communication>\n",
       "    <language>\n",
       "      <coding>\n",
       "        <system value=\"urn:ietf:bcp:47\"/>\n",
       "        <code value=\"en\"/>\n",
       "        <display value=\"English\"/>\n",
       "      </coding>\n",
       "      <text value=\"English\"/>\n",
       "    </language>\n",
       "  </communication>\n",
       "</Patient></textarea>"
      ],
      "text/plain": [
       "<IPython.core.display.Markdown object>"
      ]
     },
     "metadata": {},
     "output_type": "display_data"
    }
   ],
   "source": [
    "# *********************** GET Resource as xml from server********************************\n",
    "headers_xml = {\n",
    "'Accept':'application/fhir+xml',\n",
    "'Content-Type':'application/fhir+xml'\n",
    "}\n",
    "\n",
    "#   r = requests.post('https://httpbin.org/post', data = {'key':'value'})\n",
    "r = get(f'{fhir_test_server}/Patient/{patient[\"id\"]}', headers = headers_xml)\n",
    "\n",
    "display(Markdown(f'<h1>Get Resource as XML</h1><p><strong>Transaction Status</strong> = {r.status_code}</p><textarea rows=\"50\" cols=\"79\">{r.text}</textarea>'))\n"
   ]
  },
  {
   "cell_type": "markdown",
   "metadata": {},
   "source": [
    "### Extending this example\n",
    "\n",
    "There are several ways to improve the above code:\n",
    "\n",
    "For example\n",
    "\n",
    "- loop through all the data  ( right now - only creates the last data row )\n",
    "- Checking for missing data\n",
    "- adding capability for repeating elements\n",
    "- refactoring code to make more compact and reusable"
   ]
  },
  {
   "cell_type": "code",
   "execution_count": null,
   "metadata": {},
   "outputs": [],
   "source": []
  }
 ],
 "metadata": {
  "kernelspec": {
   "display_name": "Python 3",
   "language": "python",
   "name": "python3"
  },
  "language_info": {
   "codemirror_mode": {
    "name": "ipython",
    "version": 3
   },
   "file_extension": ".py",
   "mimetype": "text/x-python",
   "name": "python",
   "nbconvert_exporter": "python",
   "pygments_lexer": "ipython3",
   "version": "3.7.1"
  }
 },
 "nbformat": 4,
 "nbformat_minor": 2
}
