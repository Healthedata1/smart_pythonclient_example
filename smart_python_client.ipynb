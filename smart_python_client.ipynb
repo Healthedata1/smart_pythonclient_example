{
 "cells": [
  {
   "cell_type": "markdown",
   "metadata": {},
   "source": [
    "## Create US Core Patient Resource Using the Python FHIRClient Module\n",
    "\n",
    "### Prerequisites:\n",
    "\n",
    "- Python 3.6 or greater\n",
    "    for instruction how to install Python and modules and optionally setting up atom as a python IDE and creating virtual environments, If you are new to Python or need help getting starged I recommend these YouYube videos by Corey Schaefer:\n",
    "    \n",
    "[![image.jpg](http://img.youtube.com/vi/YYXdXT2l-Gg/sddefault.jpg)](https://www.youtube.com/watch?v=YYXdXT2l-Gg)\n",
    "\n",
    "[![image.jpg](http://img.youtube.com/vi/CqvZ3vGoGs0/sddefault.jpg)](https://www.youtube.com/watch?v=CqvZ3vGoGs0)\n",
    "\n",
    "[![image.jpg](http://img.youtube.com/vi/DjEuROpsvp4/sddefault.jpg)](https://www.youtube.com/watch?v=DjEuROpsvp4)\n",
    "\n",
    "[![image.jpg](http://img.youtube.com/vi/zDYL22QNiWk/sddefault.jpg)](https://www.youtube.com/watch?v=zDYL22QNiWk)\n",
    "\n",
    "\n",
    "- installed modules:\n",
    "   - [fhirclient](https://github.com/smart-on-fhir/client-py)  ( FHIR version STU3 )\n",
    "   - [requests](docs.python-requests.org/en/master/)\n",
    "   - [csv — CSV File Reading and Writing](https://docs.python.org/3/library/csv.html)\n",
    "   \n",
    "### Introduction:\n",
    " \n",
    "IN the code below, I walk through the steps to create US Core Patient resource, validate it, Post it to a FHIR server and then fetch it in xml format.  The data is based off of a simple excel file which serves as a data entry form.  To simplify things the worksheet is saved as a CSV file which is used directly in the code below.  \n",
    "\n",
    "See the FHIRClient documentation for a quick overview how to use the fhirclient models.  The models are instantiated with a Python dictionary structure or primitives types ( str, int, float, or bool ).   Repeating elements are represented at lists.  Also the FHIRClient models perform some data validation as well and provide for a more `pythonic` way to represent FHIR resources.\n",
    " "
   ]
  },
  {
   "cell_type": "markdown",
   "metadata": {},
   "source": [
    "#### First import all the necessary modules\n",
    "\n",
    "We will be using all these FHIRClient models ( classes ) for this examples and they include the patient resource models and all the datatype classes used by the resource.  The `IPython` and `pandas` modules are used to make this Jupyter Notebook display pretty."
   ]
  },
  {
   "cell_type": "code",
   "execution_count": 4,
   "metadata": {},
   "outputs": [],
   "source": [
    "# ******************** modules **************************\n",
    "\n",
    "import fhirclient.models.patient as P\n",
    "import fhirclient.models.identifier as I\n",
    "import fhirclient.models.coding as C\n",
    "import fhirclient.models.codeableconcept as CC\n",
    "import fhirclient.models.fhirdate as D\n",
    "import fhirclient.models.extension as X\n",
    "import fhirclient.models.humanname as H\n",
    "import fhirclient.models.meta as M\n",
    "import fhirclient.models.valueset as VS\n",
    "from json import dumps\n",
    "from requests import get, post, put\n",
    "import os\n",
    "from csv import DictReader\n",
    "from IPython.display import display, Markdown\n",
    "from pandas import read_csv"
   ]
  },
  {
   "cell_type": "markdown",
   "metadata": {},
   "source": [
    "####  Assign Global Variables\n",
    "\n",
    "Here is where we assign all the global varaibles for this example such as the local paths for file input and output which need to\n",
    "be updated for your local environment."
   ]
  },
  {
   "cell_type": "code",
   "execution_count": 5,
   "metadata": {},
   "outputs": [],
   "source": [
    "# ******************** globals **************************\n",
    "in_path =r'C:\\Users\\Eric\\Documents\\Jan_2019_FHIR_Experience\\US_CorePerson_data.csv'\n",
    "# out_path = '/Users/ehaas/Documents/FHIR/pyfhir/test/'\n",
    "out_path = r'C:\\Users\\Eric\\Documents\\Jan_2019_FHIR_Experience'\n",
    "fhir_term_server = 'http://test.fhir.org/r3'\n",
    "#fhir_test_server = 'http://test.fhir.org/r3'\n",
    "fhir_test_server = 'http://wildfhir.aegis.net/fhir3-0-1'\n",
    "headers = {\n",
    "'Accept':'application/fhir+json',\n",
    "'Content-Type':'application/fhir+json'\n",
    "}\n",
    "profile = 'http://hl7.org/fhir/us/core/StructureDefinition/us-core-patient' # The official URL for this profile is: http://hl7.org/fhir/us/core/StructureDefinition/us-core-patient\n",
    "\n"
   ]
  },
  {
   "cell_type": "markdown",
   "metadata": {},
   "source": [
    "####  Defined functions\n",
    "\n",
    "For this example I tried to make a simple script but there is one function defined below which demonstrates how to call a FHIR terminology server to fetch a code display and code system  given a code and a Value Set.  It is used for the Race codes as seen below.  This uses the Requests module to perform the `$expand` operation on a ValueSet."
   ]
  },
  {
   "cell_type": "code",
   "execution_count": 6,
   "metadata": {},
   "outputs": [],
   "source": [
    "# *********************  code lookup function **********************\n",
    "\n",
    "def code_lookup(code, vsid):  # look up code display and system based on code value using term server and $expansion operation\n",
    "    #GET [base]/CodeSystem/$lookup?system=http://loinc.org&code=1963-8\n",
    "    params = {\n",
    "    'filter': code\n",
    "    }\n",
    "    #   r = requests.get('https://httpbin.org/post', params = {'key':'value'}, header = {'key':'value'})\n",
    "    r = get(f'{fhir_term_server}/ValueSet/{vsid}/$expand', params = params, headers = headers)\n",
    "    # print(r.status_code)\n",
    "    if r.status_code < 300:\n",
    "        vs = VS.ValueSet(r.json())\n",
    "        return {'display': vs.expansion.contains[0].display, 'system': vs.expansion.contains[0].system\n",
    "            }\n",
    "    else:\n",
    "        print (dumps(r.json(),indent=3))\n",
    "\n"
   ]
  },
  {
   "cell_type": "markdown",
   "metadata": {},
   "source": [
    "####  Instanatiating All the Classes\n",
    "\n",
    "Before we start assigning patient data to the Patient Class, The classes are instantatiated.  See [this video](https://www.youtube.com/watch?v=ZDa-Z5JzLYM) for more\n",
    "information about Python classes and instances.  For the FHIRClient Python models, the classes are represented as Python dictionary structures using the method `as_json()`"
   ]
  },
  {
   "cell_type": "code",
   "execution_count": 7,
   "metadata": {},
   "outputs": [
    {
     "data": {
      "text/markdown": [
       "**Instantiated Python FHIR Patient Class as a Python dictionary object:** `{'resourceType': 'Patient'}`"
      ],
      "text/plain": [
       "<IPython.core.display.Markdown object>"
      ]
     },
     "metadata": {},
     "output_type": "display_data"
    }
   ],
   "source": [
    "#********************* instanatiate classes **********************\n",
    "\n",
    "patient = P.Patient()\n",
    "patientcommunication = P.PatientCommunication()\n",
    "meta = M.Meta()\n",
    "identifier = I.Identifier()\n",
    "name = H.HumanName()\n",
    "birthdate = D.FHIRDate()\n",
    "language = CC.CodeableConcept()\n",
    "coding = C.Coding()\n",
    "race = C.Coding()\n",
    "ethn = C.Coding()\n",
    "b_sex_extension = X.Extension()\n",
    "race_extension = X.Extension()\n",
    "race_ombcat_extension = X.Extension()\n",
    "race_ombdet_extension = X.Extension()\n",
    "race_text_extension = X.Extension()\n",
    "ethn_extension = X.Extension()\n",
    "ethn_ombcat_extension = X.Extension()\n",
    "ethn_ombdet_extension = X.Extension()\n",
    "ethn_text_extension = X.Extension()\n",
    "\n",
    "\n",
    "display(Markdown(f'**Instantiated Python FHIR Patient Class as a Python dictionary object:** `{patient.as_json()}`'))\n"
   ]
  },
  {
   "cell_type": "markdown",
   "metadata": {},
   "source": [
    "#### Get patient data\n",
    "\n",
    "To populate the patient resource, the data is entered from some source.  The datasource may be a database, spreadsheet, manual entry\n",
    "(e.g. from a form).  In this example, data is entered in a spreadsheet form and saved as a CSV file to make things easier when\n",
    "it comes to data type conversion, since with a csv -everything is a string.\n",
    "\n",
    "Notice that there are several fields for race and ethnicity.  In this example only a single race and ethnicity category are used."
   ]
  },
  {
   "cell_type": "code",
   "execution_count": 8,
   "metadata": {},
   "outputs": [
    {
     "data": {
      "text/markdown": [
       "**Get data from csv file**"
      ],
      "text/plain": [
       "<IPython.core.display.Markdown object>"
      ]
     },
     "metadata": {},
     "output_type": "display_data"
    },
    {
     "data": {
      "text/html": [
       "<div>\n",
       "<style scoped>\n",
       "    .dataframe tbody tr th:only-of-type {\n",
       "        vertical-align: middle;\n",
       "    }\n",
       "\n",
       "    .dataframe tbody tr th {\n",
       "        vertical-align: top;\n",
       "    }\n",
       "\n",
       "    .dataframe thead th {\n",
       "        text-align: right;\n",
       "    }\n",
       "</style>\n",
       "<table border=\"1\" class=\"dataframe\">\n",
       "  <thead>\n",
       "    <tr style=\"text-align: right;\">\n",
       "      <th></th>\n",
       "      <th>row</th>\n",
       "      <th>mrn</th>\n",
       "      <th>f_name</th>\n",
       "      <th>l_name</th>\n",
       "      <th>mi</th>\n",
       "      <th>b_sex</th>\n",
       "      <th>gender</th>\n",
       "      <th>b_date</th>\n",
       "      <th>lang</th>\n",
       "      <th>race_cat_1</th>\n",
       "      <th>race_cat_2</th>\n",
       "      <th>race_cat_3</th>\n",
       "      <th>race_det_1</th>\n",
       "      <th>race_det_2</th>\n",
       "      <th>ethn_cat</th>\n",
       "      <th>ethn_det_1</th>\n",
       "      <th>ethn_det_2</th>\n",
       "    </tr>\n",
       "  </thead>\n",
       "  <tbody>\n",
       "    <tr>\n",
       "      <th>0</th>\n",
       "      <td>1000</td>\n",
       "      <td>1032702</td>\n",
       "      <td>Amy</td>\n",
       "      <td>Shaw</td>\n",
       "      <td>V,</td>\n",
       "      <td>F</td>\n",
       "      <td>female</td>\n",
       "      <td>2007-02-20</td>\n",
       "      <td>en|English</td>\n",
       "      <td>2106-3|White</td>\n",
       "      <td>1002-5|American Indian or Alaska Native</td>\n",
       "      <td>2028-9|Asian</td>\n",
       "      <td>1586-7|Shoshone</td>\n",
       "      <td>2036-2|Filipino</td>\n",
       "      <td>Hispanic or Latino</td>\n",
       "      <td>2184-0|Dominican</td>\n",
       "      <td>2148-5|Mexican</td>\n",
       "    </tr>\n",
       "    <tr>\n",
       "      <th>1</th>\n",
       "      <td>1001</td>\n",
       "      <td>1798520</td>\n",
       "      <td>Harold</td>\n",
       "      <td>Thalburg</td>\n",
       "      <td>G</td>\n",
       "      <td>M</td>\n",
       "      <td>male</td>\n",
       "      <td>1964-06-19</td>\n",
       "      <td>en|English</td>\n",
       "      <td>2106-3|White</td>\n",
       "      <td>NaN</td>\n",
       "      <td>NaN</td>\n",
       "      <td>2116-2|Scottish</td>\n",
       "      <td>NaN</td>\n",
       "      <td>Non Hispanic or Latino</td>\n",
       "      <td>NaN</td>\n",
       "      <td>NaN</td>\n",
       "    </tr>\n",
       "    <tr>\n",
       "      <th>2</th>\n",
       "      <td>1002</td>\n",
       "      <td>1827981</td>\n",
       "      <td>Josef</td>\n",
       "      <td>Banks</td>\n",
       "      <td>E</td>\n",
       "      <td>M</td>\n",
       "      <td>male</td>\n",
       "      <td>1954-01-03</td>\n",
       "      <td>de-AT|German (Austria)</td>\n",
       "      <td>ASKU|Asked but no answer</td>\n",
       "      <td>NaN</td>\n",
       "      <td>NaN</td>\n",
       "      <td>NaN</td>\n",
       "      <td>NaN</td>\n",
       "      <td>Non Hispanic or Latino</td>\n",
       "      <td>NaN</td>\n",
       "      <td>NaN</td>\n",
       "    </tr>\n",
       "    <tr>\n",
       "      <th>3</th>\n",
       "      <td>1003</td>\n",
       "      <td>1234568</td>\n",
       "      <td>Marie</td>\n",
       "      <td>Espinoza</td>\n",
       "      <td>NaN</td>\n",
       "      <td>F</td>\n",
       "      <td>female</td>\n",
       "      <td>1980-02-02</td>\n",
       "      <td>es|Spanish</td>\n",
       "      <td>2106-3|White</td>\n",
       "      <td>NaN</td>\n",
       "      <td>NaN</td>\n",
       "      <td>NaN</td>\n",
       "      <td>NaN</td>\n",
       "      <td>Hispanic or Latino</td>\n",
       "      <td>2180-8|Puerto Rican</td>\n",
       "      <td>NaN</td>\n",
       "    </tr>\n",
       "    <tr>\n",
       "      <th>4</th>\n",
       "      <td>1004</td>\n",
       "      <td>7855521</td>\n",
       "      <td>Sofia</td>\n",
       "      <td>Juarez</td>\n",
       "      <td>NaN</td>\n",
       "      <td>F</td>\n",
       "      <td>female</td>\n",
       "      <td>1986-08-10</td>\n",
       "      <td>es|Spanish</td>\n",
       "      <td>2106-3|White</td>\n",
       "      <td>NaN</td>\n",
       "      <td>NaN</td>\n",
       "      <td>NaN</td>\n",
       "      <td>NaN</td>\n",
       "      <td>Hispanic or Latino</td>\n",
       "      <td>2148-5|Mexican</td>\n",
       "      <td>NaN</td>\n",
       "    </tr>\n",
       "    <tr>\n",
       "      <th>5</th>\n",
       "      <td>1005</td>\n",
       "      <td>1258622</td>\n",
       "      <td>An</td>\n",
       "      <td>Nguyen</td>\n",
       "      <td>P</td>\n",
       "      <td>M</td>\n",
       "      <td>male</td>\n",
       "      <td>1990-10-15</td>\n",
       "      <td>en|English</td>\n",
       "      <td>2028-9|Asian</td>\n",
       "      <td>NaN</td>\n",
       "      <td>NaN</td>\n",
       "      <td>2047-9|Vietnamese</td>\n",
       "      <td>NaN</td>\n",
       "      <td>Non Hispanic or Latino</td>\n",
       "      <td>NaN</td>\n",
       "      <td>NaN</td>\n",
       "    </tr>\n",
       "  </tbody>\n",
       "</table>\n",
       "</div>"
      ],
      "text/plain": [
       "    row      mrn  f_name    l_name   mi b_sex  gender      b_date  \\\n",
       "0  1000  1032702     Amy      Shaw   V,     F  female  2007-02-20   \n",
       "1  1001  1798520  Harold  Thalburg    G     M    male  1964-06-19   \n",
       "2  1002  1827981   Josef     Banks    E     M    male  1954-01-03   \n",
       "3  1003  1234568   Marie  Espinoza  NaN     F  female  1980-02-02   \n",
       "4  1004  7855521   Sofia    Juarez  NaN     F  female  1986-08-10   \n",
       "5  1005  1258622      An    Nguyen    P     M    male  1990-10-15   \n",
       "\n",
       "                     lang                race_cat_1  \\\n",
       "0              en|English              2106-3|White   \n",
       "1              en|English              2106-3|White   \n",
       "2  de-AT|German (Austria)  ASKU|Asked but no answer   \n",
       "3              es|Spanish              2106-3|White   \n",
       "4              es|Spanish              2106-3|White   \n",
       "5              en|English              2028-9|Asian   \n",
       "\n",
       "                                race_cat_2    race_cat_3         race_det_1  \\\n",
       "0  1002-5|American Indian or Alaska Native  2028-9|Asian    1586-7|Shoshone   \n",
       "1                                      NaN           NaN    2116-2|Scottish   \n",
       "2                                      NaN           NaN                NaN   \n",
       "3                                      NaN           NaN                NaN   \n",
       "4                                      NaN           NaN                NaN   \n",
       "5                                      NaN           NaN  2047-9|Vietnamese   \n",
       "\n",
       "        race_det_2                ethn_cat           ethn_det_1  \\\n",
       "0  2036-2|Filipino      Hispanic or Latino     2184-0|Dominican   \n",
       "1              NaN  Non Hispanic or Latino                  NaN   \n",
       "2              NaN  Non Hispanic or Latino                  NaN   \n",
       "3              NaN      Hispanic or Latino  2180-8|Puerto Rican   \n",
       "4              NaN      Hispanic or Latino       2148-5|Mexican   \n",
       "5              NaN  Non Hispanic or Latino                  NaN   \n",
       "\n",
       "       ethn_det_2  \n",
       "0  2148-5|Mexican  \n",
       "1             NaN  \n",
       "2             NaN  \n",
       "3             NaN  \n",
       "4             NaN  \n",
       "5             NaN  "
      ]
     },
     "execution_count": 8,
     "metadata": {},
     "output_type": "execute_result"
    }
   ],
   "source": [
    "#********************* get patient data **********************\n",
    "# get data from form ( csv file )\n",
    "df1 = read_csv(in_path)\n",
    "\n",
    "display(Markdown('**Get data from csv file**'))\n",
    "\n",
    "df1\n"
   ]
  },
  {
   "cell_type": "code",
   "execution_count": 9,
   "metadata": {},
   "outputs": [
    {
     "data": {
      "text/markdown": [
       "**CSV file data for row = 1000**"
      ],
      "text/plain": [
       "<IPython.core.display.Markdown object>"
      ]
     },
     "metadata": {},
     "output_type": "display_data"
    },
    {
     "name": "stdout",
     "output_type": "stream",
     "text": [
      "row = 1000\n",
      "mrn = 1032702\n",
      "f_name = Amy\n",
      "l_name = Shaw\n",
      "mi = V,\n",
      "b_sex = F\n",
      "gender = female\n",
      "b_date = 2007-02-20\n",
      "lang = en|English\n",
      "race_cat_1 = 2106-3|White\n",
      "race_cat_2 = 1002-5|American Indian or Alaska Native\n",
      "race_cat_3 = 2028-9|Asian\n",
      "race_det_1 = 1586-7|Shoshone\n",
      "race_det_2 = 2036-2|Filipino\n",
      "ethn_cat = Hispanic or Latino\n",
      "ethn_det_1 = 2184-0|Dominican\n",
      "ethn_det_2 = 2148-5|Mexican\n"
     ]
    },
    {
     "data": {
      "text/markdown": [
       "**CSV file data for row = 1001**"
      ],
      "text/plain": [
       "<IPython.core.display.Markdown object>"
      ]
     },
     "metadata": {},
     "output_type": "display_data"
    },
    {
     "name": "stdout",
     "output_type": "stream",
     "text": [
      "row = 1001\n",
      "mrn = 1798520\n",
      "f_name = Harold\n",
      "l_name = Thalburg\n",
      "mi = G\n",
      "b_sex = M\n",
      "gender = male\n",
      "b_date = 1964-06-19\n",
      "lang = en|English\n",
      "race_cat_1 = 2106-3|White\n",
      "race_cat_2 = \n",
      "race_cat_3 = \n",
      "race_det_1 = 2116-2|Scottish\n",
      "race_det_2 = \n",
      "ethn_cat = Non Hispanic or Latino\n",
      "ethn_det_1 = \n",
      "ethn_det_2 = \n"
     ]
    },
    {
     "data": {
      "text/markdown": [
       "**CSV file data for row = 1002**"
      ],
      "text/plain": [
       "<IPython.core.display.Markdown object>"
      ]
     },
     "metadata": {},
     "output_type": "display_data"
    },
    {
     "name": "stdout",
     "output_type": "stream",
     "text": [
      "row = 1002\n",
      "mrn = 1827981\n",
      "f_name = Josef\n",
      "l_name = Banks\n",
      "mi = E\n",
      "b_sex = M\n",
      "gender = male\n",
      "b_date = 1954-01-03\n",
      "lang = de-AT|German (Austria)\n",
      "race_cat_1 = ASKU|Asked but no answer\n",
      "race_cat_2 = \n",
      "race_cat_3 = \n",
      "race_det_1 = \n",
      "race_det_2 = \n",
      "ethn_cat = Non Hispanic or Latino\n",
      "ethn_det_1 = \n",
      "ethn_det_2 = \n"
     ]
    },
    {
     "data": {
      "text/markdown": [
       "**CSV file data for row = 1003**"
      ],
      "text/plain": [
       "<IPython.core.display.Markdown object>"
      ]
     },
     "metadata": {},
     "output_type": "display_data"
    },
    {
     "name": "stdout",
     "output_type": "stream",
     "text": [
      "row = 1003\n",
      "mrn = 1234568\n",
      "f_name = Marie\n",
      "l_name = Espinoza\n",
      "mi = \n",
      "b_sex = F\n",
      "gender = female\n",
      "b_date = 1980-02-02\n",
      "lang = es|Spanish\n",
      "race_cat_1 = 2106-3|White\n",
      "race_cat_2 = \n",
      "race_cat_3 = \n",
      "race_det_1 = \n",
      "race_det_2 = \n",
      "ethn_cat = Hispanic or Latino\n",
      "ethn_det_1 = 2180-8|Puerto Rican\n",
      "ethn_det_2 = \n"
     ]
    },
    {
     "data": {
      "text/markdown": [
       "**CSV file data for row = 1004**"
      ],
      "text/plain": [
       "<IPython.core.display.Markdown object>"
      ]
     },
     "metadata": {},
     "output_type": "display_data"
    },
    {
     "name": "stdout",
     "output_type": "stream",
     "text": [
      "row = 1004\n",
      "mrn = 7855521\n",
      "f_name = Sofia\n",
      "l_name = Juarez\n",
      "mi = \n",
      "b_sex = F\n",
      "gender = female\n",
      "b_date = 1986-08-10\n",
      "lang = es|Spanish\n",
      "race_cat_1 = 2106-3|White\n",
      "race_cat_2 = \n",
      "race_cat_3 = \n",
      "race_det_1 = \n",
      "race_det_2 = \n",
      "ethn_cat = Hispanic or Latino\n",
      "ethn_det_1 = 2148-5|Mexican\n",
      "ethn_det_2 = \n"
     ]
    },
    {
     "data": {
      "text/markdown": [
       "**CSV file data for row = 1005**"
      ],
      "text/plain": [
       "<IPython.core.display.Markdown object>"
      ]
     },
     "metadata": {},
     "output_type": "display_data"
    },
    {
     "name": "stdout",
     "output_type": "stream",
     "text": [
      "row = 1005\n",
      "mrn = 1258622\n",
      "f_name = An\n",
      "l_name = Nguyen\n",
      "mi = P\n",
      "b_sex = M\n",
      "gender = male\n",
      "b_date = 1990-10-15\n",
      "lang = en|English\n",
      "race_cat_1 = 2028-9|Asian\n",
      "race_cat_2 = \n",
      "race_cat_3 = \n",
      "race_det_1 = 2047-9|Vietnamese\n",
      "race_det_2 = \n",
      "ethn_cat = Non Hispanic or Latino\n",
      "ethn_det_1 = \n",
      "ethn_det_2 = \n"
     ]
    }
   ],
   "source": [
    "with open(in_path, mode='r',encoding='utf-8-sig') as csv_file:\n",
    "    csv_reader = DictReader(csv_file)\n",
    "    for data in csv_reader:\n",
    "\n",
    "        display(Markdown (f'**CSV file data for row = {data[\"row\"]}**'))\n",
    " \n",
    "        for k,v in data.items():\n",
    "            print(f'{k} = {v}')"
   ]
  },
  {
   "cell_type": "markdown",
   "metadata": {},
   "source": [
    "#### Create Patient resource\n",
    "\n",
    "After getting the source data, the patient resource can be populated.   The following code cells shows step by step how the different data types are assigned using the FHIRClient model."
   ]
  },
  {
   "cell_type": "markdown",
   "metadata": {},
   "source": [
    "#####  Assign values to the simple id and active elements"
   ]
  },
  {
   "cell_type": "code",
   "execution_count": 10,
   "metadata": {},
   "outputs": [
    {
     "data": {
      "text/markdown": [
       "**Python FHIR Patient Class is growing as the csv data are assigned to its attributes ...**"
      ],
      "text/plain": [
       "<IPython.core.display.Markdown object>"
      ]
     },
     "metadata": {},
     "output_type": "display_data"
    },
    {
     "data": {
      "text/markdown": [
       "`{'id': 'jan-2019-fhir-experience-example-1005', 'active': True, 'resourceType': 'Patient'}`"
      ],
      "text/plain": [
       "<IPython.core.display.Markdown object>"
      ]
     },
     "metadata": {},
     "output_type": "display_data"
    }
   ],
   "source": [
    "                #********************* main create patient **********************\n",
    "\n",
    "                # create simple id and active elements\n",
    "                patient.id = f'jan-2019-fhir-experience-example-{data[\"row\"]}'\n",
    "                patient.active = True\n",
    "                \n",
    "                display(Markdown('**Python FHIR Patient Class is growing as the csv data are assigned to its attributes ...**'))\n",
    "                display(Markdown(f'`{patient.as_json()}`'))\n"
   ]
  },
  {
   "cell_type": "markdown",
   "metadata": {},
   "source": [
    "#####  Assign values to complex `meta` element \n",
    " \n",
    " The meta class contains a repeating `profile` elment"
   ]
  },
  {
   "cell_type": "code",
   "execution_count": 11,
   "metadata": {},
   "outputs": [
    {
     "data": {
      "text/markdown": [
       "**add meta element ...**"
      ],
      "text/plain": [
       "<IPython.core.display.Markdown object>"
      ]
     },
     "metadata": {},
     "output_type": "display_data"
    },
    {
     "data": {
      "text/markdown": [
       "`{'id': 'jan-2019-fhir-experience-example-1005', 'meta': {'profile': ['http://hl7.org/fhir/us/core/StructureDefinition/us-core-patient']}, 'active': True, 'resourceType': 'Patient'}`"
      ],
      "text/plain": [
       "<IPython.core.display.Markdown object>"
      ]
     },
     "metadata": {},
     "output_type": "display_data"
    }
   ],
   "source": [
    "                # create complex meta element for  (repeating) profile element\n",
    "                meta.profile = []  # initialize repeating elements as empty list\n",
    "                meta.profile.append(profile) # append object to repeating elements\n",
    "                patient.meta = meta\n",
    "                \n",
    "                display(Markdown('**add meta element ...**'))\n",
    "                display(Markdown(f'`{patient.as_json()}`'))\n"
   ]
  },
  {
   "cell_type": "markdown",
   "metadata": {},
   "source": [
    "#####  Assign values to the complex identifier element\n",
    "\n",
    "Note in this example only a identifier is provided."
   ]
  },
  {
   "cell_type": "code",
   "execution_count": 12,
   "metadata": {},
   "outputs": [
    {
     "data": {
      "text/markdown": [
       "**add identifier ...**"
      ],
      "text/plain": [
       "<IPython.core.display.Markdown object>"
      ]
     },
     "metadata": {},
     "output_type": "display_data"
    },
    {
     "data": {
      "text/markdown": [
       "`{'id': 'jan-2019-fhir-experience-example-1005', 'meta': {'profile': ['http://hl7.org/fhir/us/core/StructureDefinition/us-core-patient']}, 'active': True, 'identifier': [{'system': 'http://example.org/pids', 'value': '1258622'}], 'resourceType': 'Patient'}`"
      ],
      "text/plain": [
       "<IPython.core.display.Markdown object>"
      ]
     },
     "metadata": {},
     "output_type": "display_data"
    }
   ],
   "source": [
    "                # create complex identifier element\n",
    "                identifier.system = 'http://example.org/pids'\n",
    "                identifier.value = data['mrn']\n",
    "                patient.identifier=[]   # initialize repeating elements as empty list\n",
    "                patient.identifier.append(identifier) # append object to repeating elements\n",
    "                \n",
    "                display(Markdown('**add identifier ...**'))\n",
    "                display(Markdown(f'`{patient.as_json()}`'))\n"
   ]
  },
  {
   "cell_type": "markdown",
   "metadata": {},
   "source": [
    "#####  Assign values to the complex repeating name element\n",
    "\n",
    "Note in this example only a single name is provided."
   ]
  },
  {
   "cell_type": "code",
   "execution_count": 13,
   "metadata": {},
   "outputs": [
    {
     "data": {
      "text/markdown": [
       "**add name ...**"
      ],
      "text/plain": [
       "<IPython.core.display.Markdown object>"
      ]
     },
     "metadata": {},
     "output_type": "display_data"
    },
    {
     "data": {
      "text/markdown": [
       "`{'id': 'jan-2019-fhir-experience-example-1005', 'meta': {'profile': ['http://hl7.org/fhir/us/core/StructureDefinition/us-core-patient']}, 'active': True, 'identifier': [{'system': 'http://example.org/pids', 'value': '1258622'}], 'name': [{'family': 'Nguyen', 'given': ['An', 'P']}], 'resourceType': 'Patient'}`"
      ],
      "text/plain": [
       "<IPython.core.display.Markdown object>"
      ]
     },
     "metadata": {},
     "output_type": "display_data"
    }
   ],
   "source": [
    "                # create complex repeating name element\n",
    "                name.family = data['l_name']\n",
    "                name.given = []\n",
    "                name.given.append(data['f_name'])\n",
    "                if data['mi']: name.given.append(data['mi'])\n",
    "                patient.name=[]\n",
    "                patient.name.append(name)\n",
    "                \n",
    "                display(Markdown('**add name ...**'))\n",
    "                display(Markdown(f'`{patient.as_json()}`'))\n"
   ]
  },
  {
   "cell_type": "markdown",
   "metadata": {},
   "source": [
    "#####   Assign simple `gender` and `birthdate` elements\n",
    "\n",
    "Birthdate is treated as an iso string in Python."
   ]
  },
  {
   "cell_type": "code",
   "execution_count": 14,
   "metadata": {},
   "outputs": [
    {
     "data": {
      "text/markdown": [
       "**add gender and birthdate ...**"
      ],
      "text/plain": [
       "<IPython.core.display.Markdown object>"
      ]
     },
     "metadata": {},
     "output_type": "display_data"
    },
    {
     "data": {
      "text/markdown": [
       "`{'id': 'jan-2019-fhir-experience-example-1005', 'meta': {'profile': ['http://hl7.org/fhir/us/core/StructureDefinition/us-core-patient']}, 'active': True, 'birthDate': '1990-10-15', 'gender': 'male', 'identifier': [{'system': 'http://example.org/pids', 'value': '1258622'}], 'name': [{'family': 'Nguyen', 'given': ['An', 'P']}], 'resourceType': 'Patient'}`"
      ],
      "text/plain": [
       "<IPython.core.display.Markdown object>"
      ]
     },
     "metadata": {},
     "output_type": "display_data"
    }
   ],
   "source": [
    "                #create simple gender and birthdate element ( birthdate is treated as iso string in Python)\n",
    "                patient.gender = data['gender']\n",
    "                b_date = D.FHIRDate(data['b_date'])\n",
    "                patient.birthDate = b_date\n",
    "                \n",
    "                display(Markdown('**add gender and birthdate ...**'))\n",
    "                display(Markdown(f'`{patient.as_json()}`'))\n"
   ]
  },
  {
   "cell_type": "markdown",
   "metadata": {},
   "source": [
    "#####  Assign backbone `communication` element \n",
    "\n",
    "`CodeableConcept` and `Coding` datatypes are used in this element.  This pattern is repeated for other coded elements below."
   ]
  },
  {
   "cell_type": "code",
   "execution_count": 15,
   "metadata": {},
   "outputs": [
    {
     "data": {
      "text/markdown": [
       "**add communication element ...**"
      ],
      "text/plain": [
       "<IPython.core.display.Markdown object>"
      ]
     },
     "metadata": {},
     "output_type": "display_data"
    },
    {
     "data": {
      "text/markdown": [
       "`{'id': 'jan-2019-fhir-experience-example-1005', 'meta': {'profile': ['http://hl7.org/fhir/us/core/StructureDefinition/us-core-patient']}, 'active': True, 'birthDate': '1990-10-15', 'communication': [{'language': {'coding': [{'code': 'en', 'display': 'English', 'system': 'urn:ietf:bcp:47'}], 'text': 'English'}}], 'gender': 'male', 'identifier': [{'system': 'http://example.org/pids', 'value': '1258622'}], 'name': [{'family': 'Nguyen', 'given': ['An', 'P']}], 'resourceType': 'Patient'}`"
      ],
      "text/plain": [
       "<IPython.core.display.Markdown object>"
      ]
     },
     "metadata": {},
     "output_type": "display_data"
    }
   ],
   "source": [
    "                # create backbone communication element with codeableconcept\n",
    "                patient.communication = []\n",
    "                lang_code = data['lang'].split('|')[0]  # split data into code and display\n",
    "                lang_dis = data['lang'].split('|')[1]\n",
    "                language.coding = []\n",
    "                coding.code = lang_code\n",
    "                coding.system = 'urn:ietf:bcp:47'  \n",
    "                coding.display = lang_dis\n",
    "                language.coding.append(coding)\n",
    "                language.text = lang_dis\n",
    "                patientcommunication.language = language\n",
    "                patient.communication.append(patientcommunication)\n",
    "                \n",
    "                display(Markdown('**add communication element ...**'))\n",
    "                display(Markdown(f'`{patient.as_json()}`'))\n"
   ]
  },
  {
   "cell_type": "markdown",
   "metadata": {},
   "source": [
    "#####  Assign values to the extension\n",
    "\n",
    "There are three extensions defined for the US-Core Patient.  The \"Birth Sex\" extension is a simple extension and the \"Race\" and \"Ethnicity\" extensions are complex extensions."
   ]
  },
  {
   "cell_type": "markdown",
   "metadata": {},
   "source": [
    "######  Assign values to the simple \"Birth Sex\" extension\n",
    "\n",
    "For each simple extension, a url and a value ( in this case a code ) are assigned."
   ]
  },
  {
   "cell_type": "code",
   "execution_count": 16,
   "metadata": {},
   "outputs": [
    {
     "data": {
      "text/markdown": [
       "**add US Core Extensions starting with birth_sex ...**"
      ],
      "text/plain": [
       "<IPython.core.display.Markdown object>"
      ]
     },
     "metadata": {},
     "output_type": "display_data"
    },
    {
     "data": {
      "text/markdown": [
       "`{'id': 'jan-2019-fhir-experience-example-1005', 'meta': {'profile': ['http://hl7.org/fhir/us/core/StructureDefinition/us-core-patient']}, 'extension': [{'url': 'http://hl7.org/fhir/us/core/StructureDefinition/us-core-birthsex', 'valueCode': 'M'}], 'active': True, 'birthDate': '1990-10-15', 'communication': [{'language': {'coding': [{'code': 'en', 'display': 'English', 'system': 'urn:ietf:bcp:47'}], 'text': 'English'}}], 'gender': 'male', 'identifier': [{'system': 'http://example.org/pids', 'value': '1258622'}], 'name': [{'family': 'Nguyen', 'given': ['An', 'P']}], 'resourceType': 'Patient'}`"
      ],
      "text/plain": [
       "<IPython.core.display.Markdown object>"
      ]
     },
     "metadata": {},
     "output_type": "display_data"
    }
   ],
   "source": [
    "                # create simple birth sex (repeating) extension\n",
    "                patient.extension = []\n",
    "                b_sex_extension.url = 'http://hl7.org/fhir/us/core/StructureDefinition/us-core-birthsex'  # canonical url for birthsex is 'http://hl7.org/fhir/us/core/StructureDefinition/us-core-birthsex'\n",
    "                b_sex_extension.valueCode = data['b_sex']\n",
    "                patient.extension.append(b_sex_extension)\n",
    "                \n",
    "                display(Markdown('**add US Core Extensions starting with birth_sex ...**'))\n",
    "                display(Markdown(f'`{patient.as_json()}`'))\n"
   ]
  },
  {
   "cell_type": "markdown",
   "metadata": {},
   "source": [
    "###### Assign values to the simple \"Birth Sex\" extension\n",
    "\n",
    "For each complex extension, a url and nested extensions and a values ( in this case a CodeableConcepts and strings ) are assigned.\n",
    "\n",
    "For this example, a FHIR terminology server to fetch a code display and code system for the race code and a Value Set.  This uses the Requests module to perform the `$expand` operation on a ValueSet."
   ]
  },
  {
   "cell_type": "code",
   "execution_count": 17,
   "metadata": {},
   "outputs": [
    {
     "data": {
      "text/markdown": [
       "**Get code system and code display for race from terminology server:**"
      ],
      "text/plain": [
       "<IPython.core.display.Markdown object>"
      ]
     },
     "metadata": {},
     "output_type": "display_data"
    },
    {
     "name": "stdout",
     "output_type": "stream",
     "text": [
      "sys = urn:oid:2.16.840.1.113883.6.238\n",
      "dis = Asian\n"
     ]
    }
   ],
   "source": [
    "                \n",
    "                # create complex race  (repeating) extension using codeableconcept\n",
    "        \n",
    "                race_cat_code = data['race_cat_1'].split('|')[0]\n",
    "                code_meta = code_lookup(race_cat_code, 'omb-race-category')  # look up using terminology server\n",
    "                sys = code_meta['system']\n",
    "                dis = code_meta['display']\n",
    "                \n",
    "                \n",
    "                display(Markdown('**Get code system and code display for race from terminology server:**'))\n",
    "                print(f'sys = {sys}')\n",
    "                print(f'dis = {dis}')\n",
    "            "
   ]
  },
  {
   "cell_type": "markdown",
   "metadata": {},
   "source": [
    "After getting the code system and display for the code, the extension is populated."
   ]
  },
  {
   "cell_type": "code",
   "execution_count": 18,
   "metadata": {},
   "outputs": [
    {
     "data": {
      "text/markdown": [
       "**add US Core Race Extension ...**"
      ],
      "text/plain": [
       "<IPython.core.display.Markdown object>"
      ]
     },
     "metadata": {},
     "output_type": "display_data"
    },
    {
     "data": {
      "text/markdown": [
       "`{'id': 'jan-2019-fhir-experience-example-1005', 'meta': {'profile': ['http://hl7.org/fhir/us/core/StructureDefinition/us-core-patient']}, 'extension': [{'url': 'http://hl7.org/fhir/us/core/StructureDefinition/us-core-birthsex', 'valueCode': 'M'}, {'extension': [{'url': 'text', 'valueString': 'Asian'}, {'url': 'ombCategory', 'valueCoding': {'code': '2028-9', 'display': 'Asian', 'system': 'urn:oid:2.16.840.1.113883.6.238'}}], 'url': 'http://hl7.org/fhir/us/core/StructureDefinition/us-core-race'}], 'active': True, 'birthDate': '1990-10-15', 'communication': [{'language': {'coding': [{'code': 'en', 'display': 'English', 'system': 'urn:ietf:bcp:47'}], 'text': 'English'}}], 'gender': 'male', 'identifier': [{'system': 'http://example.org/pids', 'value': '1258622'}], 'name': [{'family': 'Nguyen', 'given': ['An', 'P']}], 'resourceType': 'Patient'}`"
      ],
      "text/plain": [
       "<IPython.core.display.Markdown object>"
      ]
     },
     "metadata": {},
     "output_type": "display_data"
    }
   ],
   "source": [
    "                race_extension.url = 'http://hl7.org/fhir/us/core/StructureDefinition/us-core-race'  # canonical url for race\n",
    "                race_extension.extension = []\n",
    "                race_text_extension.url = 'text'  # url for \"subextension\"\n",
    "                race_text_extension.valueString = dis  # use display\n",
    "                race_extension.extension.append(race_text_extension)\n",
    "\n",
    "                race_ombcat_extension.url = 'ombCategory'  # url for \"subextension\"\n",
    "                race.system = sys  # look up using terminology server\n",
    "                race.code = race_cat_code\n",
    "                race.display = dis  # look up using terminology server\n",
    "                race_ombcat_extension.valueCoding = race\n",
    "                race_extension.extension.append(race_ombcat_extension)\n",
    "\n",
    "                patient.extension.append(race_extension)\n",
    "                \n",
    "                display(Markdown('**add US Core Race Extension ...**'))\n",
    "                display(Markdown(f'`{patient.as_json()}`'))\n",
    "\n"
   ]
  },
  {
   "cell_type": "markdown",
   "metadata": {},
   "source": [
    "Finally to complete this example , the ehtnicity extension is populated with a similar pattern to the race extension above"
   ]
  },
  {
   "cell_type": "code",
   "execution_count": 19,
   "metadata": {},
   "outputs": [
    {
     "data": {
      "text/markdown": [
       "**and finally add US Core Ehtnicity Extension ...**"
      ],
      "text/plain": [
       "<IPython.core.display.Markdown object>"
      ]
     },
     "metadata": {},
     "output_type": "display_data"
    },
    {
     "data": {
      "text/markdown": [
       "`{'id': 'jan-2019-fhir-experience-example-1005', 'meta': {'profile': ['http://hl7.org/fhir/us/core/StructureDefinition/us-core-patient']}, 'extension': [{'url': 'http://hl7.org/fhir/us/core/StructureDefinition/us-core-birthsex', 'valueCode': 'M'}, {'extension': [{'url': 'text', 'valueString': 'Asian'}, {'url': 'ombCategory', 'valueCoding': {'code': '2028-9', 'display': 'Asian', 'system': 'urn:oid:2.16.840.1.113883.6.238'}}], 'url': 'http://hl7.org/fhir/us/core/StructureDefinition/us-core-race'}, {'extension': [{'url': 'text', 'valueString': 'Asian'}, {'url': 'ombCategory', 'valueCoding': {'code': '2186-5', 'display': 'Non Hispanic or Latino', 'system': 'urn:oid:2.16.840.1.113883.6.238'}}], 'url': 'http://hl7.org/fhir/us/core/StructureDefinition/us-core-ethnicity'}], 'active': True, 'birthDate': '1990-10-15', 'communication': [{'language': {'coding': [{'code': 'en', 'display': 'English', 'system': 'urn:ietf:bcp:47'}], 'text': 'English'}}], 'gender': 'male', 'identifier': [{'system': 'http://example.org/pids', 'value': '1258622'}], 'name': [{'family': 'Nguyen', 'given': ['An', 'P']}], 'resourceType': 'Patient'}`"
      ],
      "text/plain": [
       "<IPython.core.display.Markdown object>"
      ]
     },
     "metadata": {},
     "output_type": "display_data"
    }
   ],
   "source": [
    "                # create complex ethnicity (repeating) extension using codeableconcept\n",
    "\n",
    "                ethn_extension.url = 'http://hl7.org/fhir/us/core/StructureDefinition/us-core-ethnicity'  # canonical url for ethn\n",
    "                ethn_extension.extension = []\n",
    "\n",
    "                ethn_text_extension.url = 'text'  # url for \"subextension\"\n",
    "                ethn_text_extension.valueString = dis  # use display\n",
    "                ethn_extension.extension.append(ethn_text_extension)\n",
    "\n",
    "                ethn_ombcat_extension.url = 'ombCategory'  # url for \"subextension\"\n",
    "                ethn.system = 'urn:oid:2.16.840.1.113883.6.238'\n",
    "                ethn.code = '2135-2' if data['ethn_cat'] == 'Hispanic or Latino' else '2186-5'\n",
    "                ethn.display = data['ethn_cat']\n",
    "                ethn_ombcat_extension.valueCoding = ethn\n",
    "                ethn_extension.extension.append(ethn_ombcat_extension)\n",
    "\n",
    "                patient.extension.append(ethn_extension)\n",
    "                \n",
    "                display(Markdown('**and finally add US Core Ehtnicity Extension ...**'))\n",
    "                display(Markdown(f'`{patient.as_json()}`'))\n",
    "\n"
   ]
  },
  {
   "cell_type": "markdown",
   "metadata": {},
   "source": [
    "#### Pretty Print the resource as a json string\n",
    "\n",
    "In Python the resource is represented as a 'dict' type.  to share this data it needs to be converted to JSON format using the Python standard library methods from the \"json\" module"
   ]
  },
  {
   "cell_type": "code",
   "execution_count": 20,
   "metadata": {},
   "outputs": [
    {
     "data": {
      "text/markdown": [
       "**Pretty print the resource as a json string ...**"
      ],
      "text/plain": [
       "<IPython.core.display.Markdown object>"
      ]
     },
     "metadata": {},
     "output_type": "display_data"
    },
    {
     "data": {
      "text/markdown": [
       "`{\n",
       "   \"id\": \"jan-2019-fhir-experience-example-1005\",\n",
       "   \"meta\": {\n",
       "      \"profile\": [\n",
       "         \"http://hl7.org/fhir/us/core/StructureDefinition/us-core-patient\"\n",
       "      ]\n",
       "   },\n",
       "   \"extension\": [\n",
       "      {\n",
       "         \"url\": \"http://hl7.org/fhir/us/core/StructureDefinition/us-core-birthsex\",\n",
       "         \"valueCode\": \"M\"\n",
       "      },\n",
       "      {\n",
       "         \"extension\": [\n",
       "            {\n",
       "               \"url\": \"text\",\n",
       "               \"valueString\": \"Asian\"\n",
       "            },\n",
       "            {\n",
       "               \"url\": \"ombCategory\",\n",
       "               \"valueCoding\": {\n",
       "                  \"code\": \"2028-9\",\n",
       "                  \"display\": \"Asian\",\n",
       "                  \"system\": \"urn:oid:2.16.840.1.113883.6.238\"\n",
       "               }\n",
       "            }\n",
       "         ],\n",
       "         \"url\": \"http://hl7.org/fhir/us/core/StructureDefinition/us-core-race\"\n",
       "      },\n",
       "      {\n",
       "         \"extension\": [\n",
       "            {\n",
       "               \"url\": \"text\",\n",
       "               \"valueString\": \"Asian\"\n",
       "            },\n",
       "            {\n",
       "               \"url\": \"ombCategory\",\n",
       "               \"valueCoding\": {\n",
       "                  \"code\": \"2186-5\",\n",
       "                  \"display\": \"Non Hispanic or Latino\",\n",
       "                  \"system\": \"urn:oid:2.16.840.1.113883.6.238\"\n",
       "               }\n",
       "            }\n",
       "         ],\n",
       "         \"url\": \"http://hl7.org/fhir/us/core/StructureDefinition/us-core-ethnicity\"\n",
       "      }\n",
       "   ],\n",
       "   \"active\": true,\n",
       "   \"birthDate\": \"1990-10-15\",\n",
       "   \"communication\": [\n",
       "      {\n",
       "         \"language\": {\n",
       "            \"coding\": [\n",
       "               {\n",
       "                  \"code\": \"en\",\n",
       "                  \"display\": \"English\",\n",
       "                  \"system\": \"urn:ietf:bcp:47\"\n",
       "               }\n",
       "            ],\n",
       "            \"text\": \"English\"\n",
       "         }\n",
       "      }\n",
       "   ],\n",
       "   \"gender\": \"male\",\n",
       "   \"identifier\": [\n",
       "      {\n",
       "         \"system\": \"http://example.org/pids\",\n",
       "         \"value\": \"1258622\"\n",
       "      }\n",
       "   ],\n",
       "   \"name\": [\n",
       "      {\n",
       "         \"family\": \"Nguyen\",\n",
       "         \"given\": [\n",
       "            \"An\",\n",
       "            \"P\"\n",
       "         ]\n",
       "      }\n",
       "   ],\n",
       "   \"resourceType\": \"Patient\"\n",
       "}`"
      ],
      "text/plain": [
       "<IPython.core.display.Markdown object>"
      ]
     },
     "metadata": {},
     "output_type": "display_data"
    }
   ],
   "source": [
    "                # pretty print the resource as a json string  ( in Python is a 'dict' type)\n",
    "\n",
    "\n",
    "                display(Markdown('**Pretty print the resource as a json string ...**'))\n",
    "                display(Markdown(f'`{dumps(patient.as_json(),indent =3)}`'))\n"
   ]
  },
  {
   "cell_type": "markdown",
   "metadata": {},
   "source": [
    "####  Validate the Resource\n",
    "\n",
    "Using the [$validate](http://build.fhir.org/resource-operation-validate.html) operation, the example is validated \n",
    "by a FHIR Reference Server.  The results are displayed below in the human readable text as xhtml."
   ]
  },
  {
   "cell_type": "code",
   "execution_count": 30,
   "metadata": {},
   "outputs": [
    {
     "data": {
      "text/markdown": [
       "<h1>Validation output</h1><div xmlns=\"http://www.w3.org/1999/xhtml\"><table class=\"grid\"><tr><td><b>Severity</b></td><td><b>Location</b></td><td><b>Code</b></td><td><b>Details</b></td><td><b>Diagnostics</b></td></tr><tr><td>INFORMATION</td><td/><td>Informational Note</td><td>Validation successful, no issues found</td><td>Validation successful, no issues found</td></tr></table></div>"
      ],
      "text/plain": [
       "<IPython.core.display.Markdown object>"
      ]
     },
     "metadata": {},
     "output_type": "display_data"
    }
   ],
   "source": [
    "                # *********************** validate Resource ********************************\n",
    "\n",
    "                params = {\n",
    "                'profile': profile\n",
    "                }\n",
    "                #   r = requests.post('https://httpbin.org/post', data = {'key':'value'})\n",
    "                r = post(f'{fhir_test_server}/Patient/$validate', params = params, headers = headers, data = dumps(patient.as_json()))\n",
    "                # print(r.status_code)\n",
    "                # view  output\n",
    "                display(Markdown(f'<h1>Validation output</h1>{r.json()[\"text\"][\"div\"]}'))\n"
   ]
  },
  {
   "cell_type": "markdown",
   "metadata": {},
   "source": [
    "##### PUT Resource on FHIR Server\n",
    "\n",
    "Using the FHIR RESTful `PUT` transaction, the resource is loaded onto the FHIR test server. The results are displayed below in the human readable text as xhtml."
   ]
  },
  {
   "cell_type": "code",
   "execution_count": 27,
   "metadata": {},
   "outputs": [
    {
     "data": {
      "text/markdown": [
       "<h1>Put Response</h1><p><strong>Transaction Status</strong> = 200</p><div xmlns=\"http://www.w3.org/1999/xhtml\"><p><b>Generated Narrative with Details</b></p><p><b>identifier</b>: 1258622      \n",
       "      </p><p><b>active</b>: true      \n",
       "      </p><p><b>name</b>: An P Nguyen       \n",
       "      </p><p><b>gender</b>: MALE      \n",
       "      </p><p><b>birthDate</b>: Oct 15, 1990      \n",
       "      </p><h3>Communications</h3><table class=\"grid\"><tr><td>-</td><td><b>Language</b></td></tr><tr><td>*</td><td>English             \n",
       "            <span style=\"background: LightGoldenRodYellow\">(Details : {urn:ietf:bcp:47 code 'en' = 'en', given as 'English'})</span></td></tr></table></div><p>raw output :</p><code>{\n",
       "   \"resourceType\": \"Patient\",\n",
       "   \"id\": \"jan-2019-fhir-experience-example-1005\",\n",
       "   \"meta\": {\n",
       "      \"versionId\": \"10\",\n",
       "      \"lastUpdated\": \"2019-01-07T19:54:48.029-05:00\",\n",
       "      \"profile\": [\n",
       "         \"http://hl7.org/fhir/us/core/StructureDefinition/us-core-patient\"\n",
       "      ]\n",
       "   },\n",
       "   \"text\": {\n",
       "      \"status\": \"generated\",\n",
       "      \"div\": \"<div xmlns=\\\"http://www.w3.org/1999/xhtml\\\"><p><b>Generated Narrative with Details</b></p><p><b>identifier</b>: 1258622      \\n      </p><p><b>active</b>: true      \\n      </p><p><b>name</b>: An P Nguyen       \\n      </p><p><b>gender</b>: MALE      \\n      </p><p><b>birthDate</b>: Oct 15, 1990      \\n      </p><h3>Communications</h3><table class=\\\"grid\\\"><tr><td>-</td><td><b>Language</b></td></tr><tr><td>*</td><td>English             \\n            <span style=\\\"background: LightGoldenRodYellow\\\">(Details : {urn:ietf:bcp:47 code 'en' = 'en', given as 'English'})</span></td></tr></table></div>\"\n",
       "   },\n",
       "   \"extension\": [\n",
       "      {\n",
       "         \"url\": \"http://hl7.org/fhir/us/core/StructureDefinition/us-core-birthsex\",\n",
       "         \"valueCode\": \"M\"\n",
       "      },\n",
       "      {\n",
       "         \"extension\": [\n",
       "            {\n",
       "               \"url\": \"text\",\n",
       "               \"valueString\": \"Asian\"\n",
       "            },\n",
       "            {\n",
       "               \"url\": \"ombCategory\",\n",
       "               \"valueCoding\": {\n",
       "                  \"system\": \"urn:oid:2.16.840.1.113883.6.238\",\n",
       "                  \"code\": \"2028-9\",\n",
       "                  \"display\": \"Asian\"\n",
       "               }\n",
       "            }\n",
       "         ],\n",
       "         \"url\": \"http://hl7.org/fhir/us/core/StructureDefinition/us-core-race\"\n",
       "      },\n",
       "      {\n",
       "         \"extension\": [\n",
       "            {\n",
       "               \"url\": \"text\",\n",
       "               \"valueString\": \"Asian\"\n",
       "            },\n",
       "            {\n",
       "               \"url\": \"ombCategory\",\n",
       "               \"valueCoding\": {\n",
       "                  \"system\": \"urn:oid:2.16.840.1.113883.6.238\",\n",
       "                  \"code\": \"2186-5\",\n",
       "                  \"display\": \"Non Hispanic or Latino\"\n",
       "               }\n",
       "            }\n",
       "         ],\n",
       "         \"url\": \"http://hl7.org/fhir/us/core/StructureDefinition/us-core-ethnicity\"\n",
       "      }\n",
       "   ],\n",
       "   \"identifier\": [\n",
       "      {\n",
       "         \"system\": \"http://example.org/pids\",\n",
       "         \"value\": \"1258622\"\n",
       "      }\n",
       "   ],\n",
       "   \"active\": true,\n",
       "   \"name\": [\n",
       "      {\n",
       "         \"family\": \"Nguyen\",\n",
       "         \"given\": [\n",
       "            \"An\",\n",
       "            \"P\"\n",
       "         ]\n",
       "      }\n",
       "   ],\n",
       "   \"gender\": \"male\",\n",
       "   \"birthDate\": \"1990-10-15\",\n",
       "   \"communication\": [\n",
       "      {\n",
       "         \"language\": {\n",
       "            \"coding\": [\n",
       "               {\n",
       "                  \"system\": \"urn:ietf:bcp:47\",\n",
       "                  \"code\": \"en\",\n",
       "                  \"display\": \"English\"\n",
       "               }\n",
       "            ],\n",
       "            \"text\": \"English\"\n",
       "         }\n",
       "      }\n",
       "   ]\n",
       "}</code>"
      ],
      "text/plain": [
       "<IPython.core.display.Markdown object>"
      ]
     },
     "metadata": {},
     "output_type": "display_data"
    }
   ],
   "source": [
    "                # *********************** PUT Resource on server********************************\n",
    "\n",
    "                #   r = requests.post('https://httpbin.org/post', data = {'key':'value'})\n",
    "                r = put(f'{fhir_test_server}/Patient/{patient.id}', headers = headers, data = dumps(patient.as_json()))\n",
    "\n",
    "                display(Markdown(f'<h1>Put Response</h1><p><strong>Transaction Status</strong> = {r.status_code}</p>{r.json()[\"text\"][\"div\"]}<p>raw output :</p><code>{dumps(r.json(),indent=3)}</code>'))\n"
   ]
  },
  {
   "cell_type": "markdown",
   "metadata": {},
   "source": [
    "##### GET Resource from FHIR Server in XML format\n",
    "\n",
    "Using the FHIR RESTful `GET` transaction, fetch the resource from the FHIR test server. The results are displayed below  human  xml."
   ]
  },
  {
   "cell_type": "code",
   "execution_count": 36,
   "metadata": {},
   "outputs": [
    {
     "data": {
      "text/markdown": [
       "<h1>Get Resource as XML</h1><p><strong>Transaction Status</strong> = 200</p><textarea rows=\"50\" cols=\"79\"><?xml version=\"1.0\" encoding=\"UTF-8\"?>\n",
       "\n",
       "<Patient xmlns=\"http://hl7.org/fhir\">\n",
       "  <id value=\"jan-2019-fhir-experience-example-1005\"/>\n",
       "  <meta>\n",
       "    <versionId value=\"10\"/>\n",
       "    <lastUpdated value=\"2019-01-07T19:54:48.029-05:00\"/>\n",
       "    <profile value=\"http://hl7.org/fhir/us/core/StructureDefinition/us-core-patient\"/>\n",
       "  </meta>\n",
       "  <text>\n",
       "    <status value=\"generated\"/>\n",
       "    <div xmlns=\"http://www.w3.org/1999/xhtml\">\n",
       "      <p>\n",
       "        <b>Generated Narrative with Details</b>\n",
       "      </p>\n",
       "      <p>\n",
       "        <b>identifier</b>: 1258622      \n",
       "      </p>\n",
       "      <p>\n",
       "        <b>active</b>: true      \n",
       "      </p>\n",
       "      <p>\n",
       "        <b>name</b>: An P Nguyen       \n",
       "      </p>\n",
       "      <p>\n",
       "        <b>gender</b>: MALE      \n",
       "      </p>\n",
       "      <p>\n",
       "        <b>birthDate</b>: Oct 15, 1990      \n",
       "      </p>\n",
       "      <h3>Communications</h3>\n",
       "      <table class=\"grid\">\n",
       "        <tr>\n",
       "          <td>-</td>\n",
       "          <td>\n",
       "            <b>Language</b>\n",
       "          </td>\n",
       "        </tr>\n",
       "        <tr>\n",
       "          <td>*</td>\n",
       "          <td>English             \n",
       "            <span style=\"background: LightGoldenRodYellow\">(Details : {urn:ietf:bcp:47 code &#39;en&#39; = &#39;en&#39;, given as &#39;English&#39;})</span>\n",
       "          </td>\n",
       "        </tr>\n",
       "      </table>\n",
       "    </div>\n",
       "  </text>\n",
       "  <extension url=\"http://hl7.org/fhir/us/core/StructureDefinition/us-core-birthsex\">\n",
       "    <valueCode value=\"M\"/>\n",
       "  </extension>\n",
       "  <extension url=\"http://hl7.org/fhir/us/core/StructureDefinition/us-core-race\">\n",
       "    <extension url=\"text\">\n",
       "      <valueString value=\"Asian\"/>\n",
       "    </extension>\n",
       "    <extension url=\"ombCategory\">\n",
       "      <valueCoding>\n",
       "        <system value=\"urn:oid:2.16.840.1.113883.6.238\"/>\n",
       "        <code value=\"2028-9\"/>\n",
       "        <display value=\"Asian\"/>\n",
       "      </valueCoding>\n",
       "    </extension>\n",
       "  </extension>\n",
       "  <extension url=\"http://hl7.org/fhir/us/core/StructureDefinition/us-core-ethnicity\">\n",
       "    <extension url=\"text\">\n",
       "      <valueString value=\"Asian\"/>\n",
       "    </extension>\n",
       "    <extension url=\"ombCategory\">\n",
       "      <valueCoding>\n",
       "        <system value=\"urn:oid:2.16.840.1.113883.6.238\"/>\n",
       "        <code value=\"2186-5\"/>\n",
       "        <display value=\"Non Hispanic or Latino\"/>\n",
       "      </valueCoding>\n",
       "    </extension>\n",
       "  </extension>\n",
       "  <identifier>\n",
       "    <system value=\"http://example.org/pids\"/>\n",
       "    <value value=\"1258622\"/>\n",
       "  </identifier>\n",
       "  <active value=\"true\"/>\n",
       "  <name>\n",
       "    <family value=\"Nguyen\"/>\n",
       "    <given value=\"An\"/>\n",
       "    <given value=\"P\"/>\n",
       "  </name>\n",
       "  <gender value=\"male\"/>\n",
       "  <birthDate value=\"1990-10-15\"/>\n",
       "  <communication>\n",
       "    <language>\n",
       "      <coding>\n",
       "        <system value=\"urn:ietf:bcp:47\"/>\n",
       "        <code value=\"en\"/>\n",
       "        <display value=\"English\"/>\n",
       "      </coding>\n",
       "      <text value=\"English\"/>\n",
       "    </language>\n",
       "  </communication>\n",
       "</Patient></textarea>"
      ],
      "text/plain": [
       "<IPython.core.display.Markdown object>"
      ]
     },
     "metadata": {},
     "output_type": "display_data"
    }
   ],
   "source": [
    "                # *********************** GET Resource as xml from server********************************\n",
    "                headers_xml = {\n",
    "                'Accept':'application/fhir+xml',\n",
    "                'Content-Type':'application/fhir+xml'\n",
    "                }\n",
    "\n",
    "                #   r = requests.post('https://httpbin.org/post', data = {'key':'value'})\n",
    "                r = get(f'{fhir_test_server}/Patient/{patient.id}', headers = headers_xml)\n",
    "\n",
    "                display(Markdown(f'<h1>Get Resource as XML</h1><p><strong>Transaction Status</strong> = {r.status_code}</p><textarea rows=\"50\" cols=\"79\">{r.text}</textarea>'))\n"
   ]
  },
  {
   "cell_type": "markdown",
   "metadata": {},
   "source": [
    "### Extending this example\n",
    "\n",
    "There are several ways to improve the above code:\n",
    "\n",
    "For example\n",
    "\n",
    "- Checking for missing data\n",
    "- adding capability for repeating elements\n",
    "- refactoring code to make more compact and reusable"
   ]
  },
  {
   "cell_type": "code",
   "execution_count": null,
   "metadata": {},
   "outputs": [],
   "source": []
  }
 ],
 "metadata": {
  "kernelspec": {
   "display_name": "Python 3",
   "language": "python",
   "name": "python3"
  },
  "language_info": {
   "codemirror_mode": {
    "name": "ipython",
    "version": 3
   },
   "file_extension": ".py",
   "mimetype": "text/x-python",
   "name": "python",
   "nbconvert_exporter": "python",
   "pygments_lexer": "ipython3",
   "version": "3.7.1"
  }
 },
 "nbformat": 4,
 "nbformat_minor": 2
}
